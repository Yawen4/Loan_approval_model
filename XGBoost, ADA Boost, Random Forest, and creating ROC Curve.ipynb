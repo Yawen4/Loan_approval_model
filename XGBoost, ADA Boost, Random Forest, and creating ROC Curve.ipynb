{
 "cells": [
  {
   "cell_type": "code",
   "execution_count": 1,
   "metadata": {},
   "outputs": [],
   "source": [
    "import pandas as pd\n",
    "import pickle\n",
    "import numpy as np\n",
    "\n",
    "from tqdm import tqdm\n",
    "tqdm.pandas(desc=\"progress-bar\")\n",
    "from sklearn import utils\n",
    "\n",
    "#For EDA\n",
    "import matplotlib.pyplot as plt\n",
    "\n",
    "from sklearn import metrics\n",
    "from sklearn.metrics import classification_report\n",
    "\n",
    "from sklearn.metrics import confusion_matrix   \n",
    "\n",
    "from sklearn.model_selection import train_test_split\n",
    "\n",
    "from sklearn import model_selection\n",
    "from sklearn.metrics import accuracy_score\n",
    "from sklearn.preprocessing import LabelEncoder\n",
    "\n",
    "from xgboost import XGBClassifier\n",
    "from sklearn.ensemble import RandomForestClassifier\n",
    "from sklearn.neighbors import KNeighborsClassifier\n",
    "from sklearn.tree import DecisionTreeClassifier\n",
    "from sklearn.ensemble import AdaBoostClassifier\n",
    "\n",
    "\n",
    "from sklearn import model_selection, svm, feature_extraction, model_selection, manifold, preprocessing\n",
    "from sklearn.metrics import accuracy_score, roc_curve, roc_auc_score\n",
    "from sklearn.model_selection import GridSearchCV\n",
    "\n",
    "from sklearn.linear_model import LogisticRegression\n",
    "from sklearn.svm import SVC\n"
   ]
  },
  {
   "cell_type": "code",
   "execution_count": 2,
   "metadata": {},
   "outputs": [],
   "source": [
    "def gridsearchmethod(clf, param_dist):    \n",
    "    grid = GridSearchCV(clf, param_dist, refit = True, verbose = 3,n_jobs=-1) \n",
    "\n",
    "    # fitting the model for grid search \n",
    "    grid.fit(Train_X, Train_Y) \n",
    "\n",
    "    # print best parameter after tuning \n",
    "    print(grid.best_params_) \n",
    "    grid_predictions = grid.predict(Test_X) \n",
    "\n",
    "    # print classification report \n",
    "    print(classification_report(Test_Y, grid_predictions)) \n",
    "    return grid\n",
    "\n",
    "\n",
    "def makeROC(classifiers, rocX_test, rocy_test):\n",
    "    # Define a result table as a DataFrame\n",
    "    result_table = pd.DataFrame(columns=['classifiers', 'fpr','tpr','auc'])\n",
    "\n",
    "    # Train the models and record the results\n",
    "    for cls in classifiers:\n",
    "        print(cls)\n",
    "        model = cls\n",
    "        yproba = model.predict_proba(rocX_test)[::,1]\n",
    "\n",
    "        fpr, tpr, _ = roc_curve(rocy_test,  yproba)\n",
    "        auc = roc_auc_score(rocy_test, yproba)\n",
    "\n",
    "        result_table = result_table.append({'classifiers':cls.__class__.__name__,\n",
    "                                            'fpr':fpr, \n",
    "                                            'tpr':tpr, \n",
    "                                            'auc':auc}, ignore_index=True)\n",
    "\n",
    "    # Set name of the classifiers as index labels\n",
    "    result_table.set_index('classifiers', inplace=True)\n",
    "    fig = plt.figure(figsize=(8,6))\n",
    "\n",
    "    for i in result_table.index:\n",
    "        plt.plot(result_table.loc[i]['fpr'], \n",
    "                 result_table.loc[i]['tpr'], \n",
    "                 label=\"{}, AUC={:.3f}\".format(i, result_table.loc[i]['auc']))\n",
    "\n",
    "    plt.plot([0,1], [0,1], color='orange', linestyle='--')\n",
    "\n",
    "    plt.xticks(np.arange(0.0, 1.1, step=0.1))\n",
    "    plt.xlabel(\"False Positive Rate\", fontsize=15)\n",
    "\n",
    "    plt.yticks(np.arange(0.0, 1.1, step=0.1))\n",
    "    plt.ylabel(\"True Positive Rate\", fontsize=15)\n",
    "\n",
    "    plt.title(('ROC Curve Analysis'), fontweight='bold', fontsize=15)\n",
    "    plt.legend(prop={'size':13}, loc='lower right')\n",
    "\n",
    "    plt.show()\n",
    "    "
   ]
  },
  {
   "cell_type": "markdown",
   "metadata": {},
   "source": [
    "# Base Performance Pre BERT"
   ]
  },
  {
   "cell_type": "code",
   "execution_count": 3,
   "metadata": {},
   "outputs": [],
   "source": [
    "df = pd.read_excel(\"loan_data_filtered_important.xlsx\")"
   ]
  },
  {
   "cell_type": "code",
   "execution_count": 4,
   "metadata": {},
   "outputs": [],
   "source": [
    "from sklearn.preprocessing import StandardScaler\n",
    "\n",
    "Train_X, Test_X, Train_Y, Test_Y = model_selection.train_test_split(df.drop(columns = [\"loan_status\"]),df[\"loan_status\"], train_size= 0.8, random_state=0)\n",
    "\n",
    "scaler = StandardScaler()\n",
    "Train_X = scaler.fit_transform(Train_X)\n",
    "Test_X = scaler.transform(Test_X)"
   ]
  },
  {
   "cell_type": "code",
   "execution_count": 10,
   "metadata": {},
   "outputs": [
    {
     "name": "stdout",
     "output_type": "stream",
     "text": [
      "              precision    recall  f1-score   support\n",
      "\n",
      "           0       0.28      0.08      0.12       729\n",
      "           1       0.86      0.97      0.91      4354\n",
      "\n",
      "    accuracy                           0.84      5083\n",
      "   macro avg       0.57      0.52      0.51      5083\n",
      "weighted avg       0.78      0.84      0.80      5083\n",
      "\n"
     ]
    }
   ],
   "source": [
    "knn = KNeighborsClassifier(n_neighbors = 8)\n",
    "\n",
    "# fitting the model for grid search \n",
    "knn.fit(Train_X, Train_Y) \n",
    "\n",
    "grid_predictions = knn.predict(Test_X) \n",
    "\n",
    "# print classification report \n",
    "print(classification_report(Test_Y, grid_predictions)) "
   ]
  },
  {
   "cell_type": "code",
   "execution_count": 9,
   "metadata": {},
   "outputs": [
    {
     "name": "stdout",
     "output_type": "stream",
     "text": [
      "              precision    recall  f1-score   support\n",
      "\n",
      "           0       0.37      0.03      0.05       729\n",
      "           1       0.86      0.99      0.92      4354\n",
      "\n",
      "    accuracy                           0.85      5083\n",
      "   macro avg       0.62      0.51      0.48      5083\n",
      "weighted avg       0.79      0.85      0.80      5083\n",
      "\n"
     ]
    }
   ],
   "source": [
    "ADA = AdaBoostClassifier(random_state = 0)\n",
    "\n",
    "# fitting the model for grid search \n",
    "ADA.fit(Train_X, Train_Y) \n",
    "\n",
    "grid_predictions = ADA.predict(Test_X) \n",
    "\n",
    "# print classification report \n",
    "print(classification_report(Test_Y, grid_predictions)) "
   ]
  },
  {
   "cell_type": "code",
   "execution_count": 8,
   "metadata": {},
   "outputs": [
    {
     "name": "stderr",
     "output_type": "stream",
     "text": [
      "C:\\Users\\joellim\\Anaconda3\\lib\\site-packages\\xgboost\\sklearn.py:888: UserWarning: The use of label encoder in XGBClassifier is deprecated and will be removed in a future release. To remove this warning, do the following: 1) Pass option use_label_encoder=False when constructing XGBClassifier object; and 2) Encode your labels (y) as integers starting with 0, i.e. 0, 1, 2, ..., [num_class - 1].\n",
      "  warnings.warn(label_encoder_deprecation_msg, UserWarning)\n"
     ]
    },
    {
     "name": "stdout",
     "output_type": "stream",
     "text": [
      "[12:42:52] WARNING: ..\\src\\learner.cc:1061: Starting in XGBoost 1.3.0, the default evaluation metric used with the objective 'binary:logistic' was changed from 'error' to 'logloss'. Explicitly set eval_metric if you'd like to restore the old behavior.\n",
      "              precision    recall  f1-score   support\n",
      "\n",
      "           0       0.40      0.08      0.13       729\n",
      "           1       0.86      0.98      0.92      4354\n",
      "\n",
      "    accuracy                           0.85      5083\n",
      "   macro avg       0.63      0.53      0.53      5083\n",
      "weighted avg       0.80      0.85      0.81      5083\n",
      "\n"
     ]
    }
   ],
   "source": [
    "XGB = XGBClassifier(random_state = 0)\n",
    "\n",
    "# fitting the model for grid search \n",
    "XGB.fit(Train_X, Train_Y) \n",
    "\n",
    "grid_predictions = XGB.predict(Test_X) \n",
    "\n",
    "# print classification report \n",
    "print(classification_report(Test_Y, grid_predictions)) "
   ]
  },
  {
   "cell_type": "code",
   "execution_count": 6,
   "metadata": {},
   "outputs": [
    {
     "name": "stdout",
     "output_type": "stream",
     "text": [
      "              precision    recall  f1-score   support\n",
      "\n",
      "           0       0.42      0.02      0.05       729\n",
      "           1       0.86      0.99      0.92      4354\n",
      "\n",
      "    accuracy                           0.86      5083\n",
      "   macro avg       0.64      0.51      0.48      5083\n",
      "weighted avg       0.80      0.86      0.80      5083\n",
      "\n"
     ]
    }
   ],
   "source": [
    "RF = RandomForestClassifier(random_state = 0)\n",
    "# fitting the model for grid search \n",
    "RF.fit(Train_X, Train_Y) \n",
    "\n",
    "grid_predictions = RF.predict(Test_X) \n",
    "\n",
    "# print classification report \n",
    "print(classification_report(Test_Y, grid_predictions)) "
   ]
  },
  {
   "cell_type": "markdown",
   "metadata": {},
   "source": [
    "# Improved Performance Post BERT"
   ]
  },
  {
   "cell_type": "code",
   "execution_count": 30,
   "metadata": {},
   "outputs": [],
   "source": [
    "df = pd.read_excel(\"loan_data_final.xlsx\")"
   ]
  },
  {
   "cell_type": "code",
   "execution_count": 38,
   "metadata": {},
   "outputs": [],
   "source": [
    "from sklearn.preprocessing import StandardScaler\n",
    "\n",
    "Train_X, Test_X, Train_Y, Test_Y = model_selection.train_test_split(df.drop(columns = [\"loan_status\"]),df[\"loan_status\"], train_size= 0.8, random_state=0)\n",
    "\n",
    "scaler = StandardScaler()\n",
    "Train_X = scaler.fit_transform(Train_X)\n",
    "Test_X = scaler.transform(Test_X)"
   ]
  },
  {
   "cell_type": "markdown",
   "metadata": {},
   "source": [
    "# Random Forest"
   ]
  },
  {
   "cell_type": "code",
   "execution_count": 7,
   "metadata": {},
   "outputs": [
    {
     "name": "stdout",
     "output_type": "stream",
     "text": [
      "Fitting 5 folds for each of 16 candidates, totalling 80 fits\n"
     ]
    },
    {
     "name": "stderr",
     "output_type": "stream",
     "text": [
      "[Parallel(n_jobs=-1)]: Using backend LokyBackend with 12 concurrent workers.\n",
      "[Parallel(n_jobs=-1)]: Done   8 tasks      | elapsed:   11.9s\n",
      "[Parallel(n_jobs=-1)]: Done  80 out of  80 | elapsed:  1.3min finished\n"
     ]
    },
    {
     "name": "stdout",
     "output_type": "stream",
     "text": [
      "{'max_depth': 40, 'n_estimators': 300}\n",
      "              precision    recall  f1-score   support\n",
      "\n",
      "           0       0.86      0.57      0.68       735\n",
      "           1       0.93      0.98      0.96      4348\n",
      "\n",
      "    accuracy                           0.92      5083\n",
      "   macro avg       0.89      0.78      0.82      5083\n",
      "weighted avg       0.92      0.92      0.92      5083\n",
      "\n"
     ]
    },
    {
     "data": {
      "text/plain": [
       "GridSearchCV(estimator=RandomForestClassifier(random_state=0), n_jobs=-1,\n",
       "             param_grid={'max_depth': [30, 35, 40, 45],\n",
       "                         'n_estimators': [50, 100, 200, 300]},\n",
       "             verbose=3)"
      ]
     },
     "execution_count": 7,
     "metadata": {},
     "output_type": "execute_result"
    }
   ],
   "source": [
    "RF = RandomForestClassifier(random_state = 0)\n",
    "\n",
    "param_dist = {\n",
    "    'max_depth': [30, 35, 40, 45],\n",
    "    'n_estimators': [50, 100, 200, 300]\n",
    "}\n",
    "\n",
    "gridsearchmethod(RF,param_dist)"
   ]
  },
  {
   "cell_type": "markdown",
   "metadata": {},
   "source": [
    "# ADA Boost"
   ]
  },
  {
   "cell_type": "code",
   "execution_count": 10,
   "metadata": {},
   "outputs": [
    {
     "name": "stdout",
     "output_type": "stream",
     "text": [
      "Fitting 5 folds for each of 18 candidates, totalling 90 fits\n"
     ]
    },
    {
     "name": "stderr",
     "output_type": "stream",
     "text": [
      "[Parallel(n_jobs=-1)]: Using backend LokyBackend with 12 concurrent workers.\n",
      "[Parallel(n_jobs=-1)]: Done   8 tasks      | elapsed:  1.3min\n",
      "[Parallel(n_jobs=-1)]: Done  90 out of  90 | elapsed:  6.4min finished\n"
     ]
    },
    {
     "name": "stdout",
     "output_type": "stream",
     "text": [
      "{'base_estimator': DecisionTreeClassifier(max_depth=3, random_state=0), 'learning_rate': 0.05, 'n_estimators': 100}\n",
      "              precision    recall  f1-score   support\n",
      "\n",
      "           0       0.86      0.56      0.68       735\n",
      "           1       0.93      0.98      0.96      4348\n",
      "\n",
      "    accuracy                           0.92      5083\n",
      "   macro avg       0.89      0.77      0.82      5083\n",
      "weighted avg       0.92      0.92      0.92      5083\n",
      "\n"
     ]
    },
    {
     "data": {
      "text/plain": [
       "GridSearchCV(estimator=AdaBoostClassifier(random_state=0), n_jobs=-1,\n",
       "             param_grid={'base_estimator': [DecisionTreeClassifier(max_depth=2,\n",
       "                                                                   random_state=0),\n",
       "                                            DecisionTreeClassifier(max_depth=3,\n",
       "                                                                   random_state=0)],\n",
       "                         'learning_rate': [0.05, 0.1, 0.2],\n",
       "                         'n_estimators': [100, 200, 300]},\n",
       "             verbose=3)"
      ]
     },
     "execution_count": 10,
     "metadata": {},
     "output_type": "execute_result"
    }
   ],
   "source": [
    "ADA = AdaBoostClassifier(random_state = 0)\n",
    "\n",
    "param_dist = {\n",
    "    'learning_rate' : [0.05, 0.1, 0.2],\n",
    "    'n_estimators': [100, 200, 300],\n",
    "    'base_estimator': [DecisionTreeClassifier(random_state=0, max_depth=2),DecisionTreeClassifier(random_state=0, max_depth=3)]\n",
    "}\n",
    "\n",
    "\n",
    "gridsearchmethod(ADA,param_dist)"
   ]
  },
  {
   "cell_type": "markdown",
   "metadata": {},
   "source": [
    "# XGBOOST"
   ]
  },
  {
   "cell_type": "code",
   "execution_count": 11,
   "metadata": {},
   "outputs": [
    {
     "name": "stdout",
     "output_type": "stream",
     "text": [
      "Fitting 5 folds for each of 36 candidates, totalling 180 fits\n"
     ]
    },
    {
     "name": "stderr",
     "output_type": "stream",
     "text": [
      "[Parallel(n_jobs=-1)]: Using backend LokyBackend with 12 concurrent workers.\n",
      "[Parallel(n_jobs=-1)]: Done   8 tasks      | elapsed:   35.6s\n",
      "[Parallel(n_jobs=-1)]: Done 104 tasks      | elapsed:  5.6min\n",
      "[Parallel(n_jobs=-1)]: Done 180 out of 180 | elapsed:  8.8min finished\n",
      "C:\\Users\\joellim\\Anaconda3\\lib\\site-packages\\xgboost\\sklearn.py:888: UserWarning: The use of label encoder in XGBClassifier is deprecated and will be removed in a future release. To remove this warning, do the following: 1) Pass option use_label_encoder=False when constructing XGBClassifier object; and 2) Encode your labels (y) as integers starting with 0, i.e. 0, 1, 2, ..., [num_class - 1].\n",
      "  warnings.warn(label_encoder_deprecation_msg, UserWarning)\n"
     ]
    },
    {
     "name": "stdout",
     "output_type": "stream",
     "text": [
      "[21:26:57] WARNING: ..\\src\\learner.cc:1061: Starting in XGBoost 1.3.0, the default evaluation metric used with the objective 'binary:logistic' was changed from 'error' to 'logloss'. Explicitly set eval_metric if you'd like to restore the old behavior.\n",
      "{'max_depth': 40, 'n_estimators': 100, 'reg_alpha': 0.2}\n",
      "              precision    recall  f1-score   support\n",
      "\n",
      "           0       0.86      0.56      0.67       735\n",
      "           1       0.93      0.98      0.96      4348\n",
      "\n",
      "    accuracy                           0.92      5083\n",
      "   macro avg       0.89      0.77      0.81      5083\n",
      "weighted avg       0.92      0.92      0.92      5083\n",
      "\n"
     ]
    },
    {
     "data": {
      "text/plain": [
       "GridSearchCV(estimator=XGBClassifier(base_score=None, booster=None,\n",
       "                                     colsample_bylevel=None,\n",
       "                                     colsample_bynode=None,\n",
       "                                     colsample_bytree=None, gamma=None,\n",
       "                                     gpu_id=None, importance_type='gain',\n",
       "                                     interaction_constraints=None,\n",
       "                                     learning_rate=None, max_delta_step=None,\n",
       "                                     max_depth=None, min_child_weight=None,\n",
       "                                     missing=nan, monotone_constraints=None,\n",
       "                                     n_estimators=100, n_jobs=None,\n",
       "                                     num_parallel_tree=None, random_state=0,\n",
       "                                     reg_alpha=None, reg_lambda=None,\n",
       "                                     scale_pos_weight=None, subsample=None,\n",
       "                                     tree_method=None, validate_parameters=None,\n",
       "                                     verbosity=None),\n",
       "             n_jobs=-1,\n",
       "             param_grid={'max_depth': [30, 35, 40, 45],\n",
       "                         'n_estimators': [50, 100, 200],\n",
       "                         'reg_alpha': [0.1, 0.2, 0.3]},\n",
       "             verbose=3)"
      ]
     },
     "execution_count": 11,
     "metadata": {},
     "output_type": "execute_result"
    }
   ],
   "source": [
    "XGB = XGBClassifier(random_state = 0)\n",
    "\n",
    "param_dist = {\n",
    "    'max_depth': [30, 35, 40, 45],\n",
    "    'n_estimators': [50, 100, 200],\n",
    "    'reg_alpha': [0.1, 0.2, 0.3]\n",
    "}\n",
    "\n",
    "gridsearchmethod(XGB,param_dist)"
   ]
  },
  {
   "cell_type": "markdown",
   "metadata": {},
   "source": [
    "# Saving Trained Models"
   ]
  },
  {
   "cell_type": "code",
   "execution_count": 22,
   "metadata": {},
   "outputs": [
    {
     "name": "stderr",
     "output_type": "stream",
     "text": [
      "C:\\Users\\joellim\\Anaconda3\\lib\\site-packages\\xgboost\\sklearn.py:888: UserWarning: The use of label encoder in XGBClassifier is deprecated and will be removed in a future release. To remove this warning, do the following: 1) Pass option use_label_encoder=False when constructing XGBClassifier object; and 2) Encode your labels (y) as integers starting with 0, i.e. 0, 1, 2, ..., [num_class - 1].\n",
      "  warnings.warn(label_encoder_deprecation_msg, UserWarning)\n",
      "C:\\Users\\joellim\\Anaconda3\\lib\\site-packages\\sklearn\\utils\\validation.py:72: DataConversionWarning: A column-vector y was passed when a 1d array was expected. Please change the shape of y to (n_samples, ), for example using ravel().\n",
      "  return f(**kwargs)\n"
     ]
    },
    {
     "name": "stdout",
     "output_type": "stream",
     "text": [
      "[21:12:10] WARNING: ..\\src\\learner.cc:1061: Starting in XGBoost 1.3.0, the default evaluation metric used with the objective 'binary:logistic' was changed from 'error' to 'logloss'. Explicitly set eval_metric if you'd like to restore the old behavior.\n",
      "              precision    recall  f1-score   support\n",
      "\n",
      "           0       0.86      0.55      0.67       735\n",
      "           1       0.93      0.98      0.96      4348\n",
      "\n",
      "    accuracy                           0.92      5083\n",
      "   macro avg       0.89      0.77      0.81      5083\n",
      "weighted avg       0.92      0.92      0.91      5083\n",
      "\n"
     ]
    },
    {
     "name": "stderr",
     "output_type": "stream",
     "text": [
      "C:\\Users\\joellim\\Anaconda3\\lib\\site-packages\\sklearn\\utils\\validation.py:72: DataConversionWarning: A column-vector y was passed when a 1d array was expected. Please change the shape of y to (n_samples, ), for example using ravel().\n",
      "  return f(**kwargs)\n"
     ]
    },
    {
     "name": "stdout",
     "output_type": "stream",
     "text": [
      "              precision    recall  f1-score   support\n",
      "\n",
      "           0       0.86      0.56      0.68       735\n",
      "           1       0.93      0.98      0.96      4348\n",
      "\n",
      "    accuracy                           0.92      5083\n",
      "   macro avg       0.89      0.77      0.82      5083\n",
      "weighted avg       0.92      0.92      0.92      5083\n",
      "\n"
     ]
    }
   ],
   "source": [
    "XGB = XGBClassifier(random_state=0, max_depth = 40, n_estimators = 100, reg_alpha = 0.2)\n",
    "\n",
    "XGB.fit(Train_X, Train_Y) \n",
    "XGB_predictions = XGB.predict(Test_X) \n",
    "\n",
    "# print classification report \n",
    "print(classification_report(Test_Y, XGB_predictions)) \n",
    "\n",
    "ADA = AdaBoostClassifier(random_state = 0, base_estimator = DecisionTreeClassifier(max_depth=3, random_state=0), learning_rate = 0.05, n_estimators = 100)\n",
    "\n",
    "ADA.fit(Train_X, Train_Y) \n",
    "ada_predictions = ADA.predict(Test_X) \n",
    "\n",
    "# print classification report \n",
    "print(classification_report(Test_Y, ada_predictions)) "
   ]
  },
  {
   "cell_type": "code",
   "execution_count": 39,
   "metadata": {},
   "outputs": [
    {
     "name": "stderr",
     "output_type": "stream",
     "text": [
      "C:\\Users\\joellim\\Anaconda3\\lib\\site-packages\\xgboost\\sklearn.py:888: UserWarning: The use of label encoder in XGBClassifier is deprecated and will be removed in a future release. To remove this warning, do the following: 1) Pass option use_label_encoder=False when constructing XGBClassifier object; and 2) Encode your labels (y) as integers starting with 0, i.e. 0, 1, 2, ..., [num_class - 1].\n",
      "  warnings.warn(label_encoder_deprecation_msg, UserWarning)\n"
     ]
    },
    {
     "name": "stdout",
     "output_type": "stream",
     "text": [
      "[21:20:47] WARNING: ..\\src\\learner.cc:1061: Starting in XGBoost 1.3.0, the default evaluation metric used with the objective 'binary:logistic' was changed from 'error' to 'logloss'. Explicitly set eval_metric if you'd like to restore the old behavior.\n"
     ]
    },
    {
     "name": "stderr",
     "output_type": "stream",
     "text": [
      "C:\\Users\\joellim\\Anaconda3\\lib\\site-packages\\sklearn\\linear_model\\_logistic.py:1320: UserWarning: Setting penalty='none' will ignore the C and l1_ratio parameters\n",
      "  warnings.warn(\n",
      "C:\\Users\\joellim\\Anaconda3\\lib\\site-packages\\sklearn\\linear_model\\_sag.py:329: ConvergenceWarning: The max_iter was reached which means the coef_ did not converge\n",
      "  warnings.warn(\"The max_iter was reached which means \"\n"
     ]
    },
    {
     "data": {
      "text/plain": [
       "KNeighborsClassifier(n_neighbors=8)"
      ]
     },
     "execution_count": 39,
     "metadata": {},
     "output_type": "execute_result"
    }
   ],
   "source": [
    "XGB = XGBClassifier(random_state=0, max_depth = 40, n_estimators = 100, reg_alpha = 0.2)\n",
    "XGB.fit(Train_X, Train_Y) \n",
    "\n",
    "ADA = AdaBoostClassifier(random_state = 0, base_estimator = DecisionTreeClassifier(max_depth=3, random_state=0), learning_rate = 0.05, n_estimators = 100)\n",
    "ADA.fit(Train_X, Train_Y) \n",
    "\n",
    "lg = LogisticRegression(C = 0.001, solver = 'sag', penalty = 'none')\n",
    "lg.fit(Train_X, Train_Y) \n",
    "\n",
    "svc=SVC(C = 1, gamma=0.0001,kernel='rbf', probability=True)\n",
    "svc.fit(Train_X, Train_Y) \n",
    "\n",
    "dt = DecisionTreeClassifier(criterion='gini',max_depth=2)\n",
    "dt.fit(Train_X, Train_Y) \n",
    "\n",
    "rf = RandomForestClassifier(random_state = 0, max_depth = 40, n_estimators = 300)\n",
    "rf.fit(Train_X, Train_Y) \n",
    "\n",
    "knn = KNeighborsClassifier(n_neighbors = 8)\n",
    "knn.fit(Train_X, Train_Y) \n"
   ]
  },
  {
   "cell_type": "code",
   "execution_count": 40,
   "metadata": {},
   "outputs": [],
   "source": [
    "filename = 'XGB.sav'\n",
    "pickle.dump(XGB, open(filename, 'wb'))\n",
    "\n",
    "filename = 'ADA.sav'\n",
    "pickle.dump(ADA, open(filename, 'wb'))\n",
    "\n",
    "filename = 'svc.sav'\n",
    "pickle.dump(svc, open(filename, 'wb'))\n",
    "\n",
    "filename = 'lg.sav'\n",
    "pickle.dump(lg, open(filename, 'wb'))\n",
    "\n",
    "filename = 'dt.sav'\n",
    "pickle.dump(dt, open(filename, 'wb'))\n",
    "\n",
    "filename = 'knn.sav'\n",
    "pickle.dump(knn, open(filename, 'wb'))\n",
    "\n",
    "filename = 'rf.sav'\n",
    "pickle.dump(rf, open(filename, 'wb'))"
   ]
  },
  {
   "cell_type": "code",
   "execution_count": 41,
   "metadata": {},
   "outputs": [],
   "source": [
    "XGB = pickle.load(open('XGB.sav', 'rb'))\n",
    "ADA = pickle.load(open('ADA.sav', 'rb'))\n",
    "svc = pickle.load(open('svc.sav', 'rb'))\n",
    "lg = pickle.load(open('lg.sav', 'rb'))\n",
    "dt = pickle.load(open('dt.sav', 'rb'))\n",
    "rf = pickle.load(open('rf.sav', 'rb'))\n",
    "knn = pickle.load(open('knn.sav', 'rb'))"
   ]
  },
  {
   "cell_type": "code",
   "execution_count": 42,
   "metadata": {},
   "outputs": [
    {
     "name": "stdout",
     "output_type": "stream",
     "text": [
      "AdaBoostClassifier(base_estimator=DecisionTreeClassifier(max_depth=3,\n",
      "                                                         random_state=0),\n",
      "                   learning_rate=0.05, n_estimators=100, random_state=0)\n",
      "XGBClassifier(base_score=0.5, booster='gbtree', colsample_bylevel=1,\n",
      "              colsample_bynode=1, colsample_bytree=1, gamma=0, gpu_id=-1,\n",
      "              importance_type='gain', interaction_constraints='',\n",
      "              learning_rate=0.300000012, max_delta_step=0, max_depth=40,\n",
      "              min_child_weight=1, missing=nan, monotone_constraints='()',\n",
      "              n_estimators=100, n_jobs=12, num_parallel_tree=1, random_state=0,\n",
      "              reg_alpha=0.2, reg_lambda=1, scale_pos_weight=1, subsample=1,\n",
      "              tree_method='exact', validate_parameters=1, verbosity=None)\n",
      "SVC(C=1, gamma=0.0001, probability=True)\n",
      "LogisticRegression(C=0.001, penalty='none', solver='sag')\n",
      "DecisionTreeClassifier(max_depth=2)\n",
      "RandomForestClassifier(max_depth=40, n_estimators=300, random_state=0)\n",
      "KNeighborsClassifier(n_neighbors=8)\n"
     ]
    },
    {
     "data": {
      "image/png": "[encoded data removed]",
      "text/plain": [
       "<Figure size 576x432 with 1 Axes>"
      ]
     },
     "metadata": {
      "needs_background": "light"
     },
     "output_type": "display_data"
    }
   ],
   "source": [
    "makeROC([ADA, XGB, svc, lg, dt, rf, knn], Test_X, Test_Y)"
   ]
  },
  {
   "cell_type": "code",
   "execution_count": null,
   "metadata": {},
   "outputs": [],
   "source": []
  }
 ],
 "metadata": {
  "kernelspec": {
   "display_name": "Python 3",
   "language": "python",
   "name": "python3"
  },
  "language_info": {
   "codemirror_mode": {
    "name": "ipython",
    "version": 3
   },
   "file_extension": ".py",
   "mimetype": "text/x-python",
   "name": "python",
   "nbconvert_exporter": "python",
   "pygments_lexer": "ipython3",
   "version": "3.8.5"
  }
 },
 "nbformat": 4,
 "nbformat_minor": 4
}
