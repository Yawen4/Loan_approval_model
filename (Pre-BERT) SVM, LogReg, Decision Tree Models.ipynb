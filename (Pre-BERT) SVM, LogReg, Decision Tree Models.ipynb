{
 "cells": [
  {
   "cell_type": "code",
   "execution_count": 1,
   "metadata": {},
   "outputs": [],
   "source": [
    "###PRE-BERT DATA Model "
   ]
  },
  {
   "cell_type": "code",
   "execution_count": 2,
   "metadata": {},
   "outputs": [
    {
     "name": "stdout",
     "output_type": "stream",
     "text": [
      "Collecting plotly\n",
      "  Downloading plotly-5.6.0-py2.py3-none-any.whl (27.7 MB)\n",
      "\u001b[K     |████████████████████████████████| 27.7 MB 9.9 MB/s eta 0:00:01\n",
      "\u001b[?25hCollecting tenacity>=6.2.0\n",
      "  Downloading tenacity-8.0.1-py3-none-any.whl (24 kB)\n",
      "Requirement already satisfied: six in /Users/wanyiwong/opt/anaconda3/lib/python3.8/site-packages (from plotly) (1.15.0)\n",
      "Installing collected packages: tenacity, plotly\n",
      "Successfully installed plotly-5.6.0 tenacity-8.0.1\n"
     ]
    }
   ],
   "source": [
    "!pip3 install plotly"
   ]
  },
  {
   "cell_type": "code",
   "execution_count": 1,
   "metadata": {},
   "outputs": [],
   "source": [
    "import pandas as pd\n",
    "from sklearn.ensemble import RandomForestClassifier\n",
    "from matplotlib import pyplot\n",
    "\n",
    "import numpy as np\n",
    "from sklearn.model_selection import train_test_split\n",
    "#Transforming\n",
    "from sklearn.preprocessing import MinMaxScaler\n",
    "from sklearn.decomposition import PCA\n",
    "\n",
    "#cluster and Eval\n",
    "from sklearn.cluster import KMeans\n",
    "from sklearn.metrics import davies_bouldin_score\n",
    "from sklearn.metrics import silhouette_samples, silhouette_score\n",
    "import matplotlib.cm as cm\n",
    "from sklearn.manifold import TSNE\n",
    "from sklearn import decomposition\n",
    "\n",
    "#Visualization\n",
    "import matplotlib.pyplot as plt\n",
    "import plotly.express as px\n",
    "\n",
    "from sklearn.svm import LinearSVC"
   ]
  },
  {
   "cell_type": "code",
   "execution_count": 2,
   "metadata": {},
   "outputs": [],
   "source": [
    "from sklearn import svm\n",
    "from sklearn.svm import SVC\n",
    "from sklearn.linear_model import LogisticRegression\n",
    "from sklearn.metrics import accuracy_score\n",
    "import warnings\n",
    "warnings.filterwarnings('ignore')"
   ]
  },
  {
   "cell_type": "code",
   "execution_count": 3,
   "metadata": {},
   "outputs": [
    {
     "data": {
      "text/html": [
       "<div>\n",
       "<style scoped>\n",
       "    .dataframe tbody tr th:only-of-type {\n",
       "        vertical-align: middle;\n",
       "    }\n",
       "\n",
       "    .dataframe tbody tr th {\n",
       "        vertical-align: top;\n",
       "    }\n",
       "\n",
       "    .dataframe thead th {\n",
       "        text-align: right;\n",
       "    }\n",
       "</style>\n",
       "<table border=\"1\" class=\"dataframe\">\n",
       "  <thead>\n",
       "    <tr style=\"text-align: right;\">\n",
       "      <th></th>\n",
       "      <th>int_rate</th>\n",
       "      <th>installment_percent_of_income</th>\n",
       "      <th>revol_bal</th>\n",
       "      <th>loan_status</th>\n",
       "      <th>annual_inc</th>\n",
       "      <th>pub_rec</th>\n",
       "      <th>installment</th>\n",
       "      <th>funded_amnt_inv</th>\n",
       "      <th>revol_util</th>\n",
       "      <th>sub_grade</th>\n",
       "      <th>...</th>\n",
       "      <th>TX</th>\n",
       "      <th>KY</th>\n",
       "      <th>LA</th>\n",
       "      <th>VA</th>\n",
       "      <th>MI</th>\n",
       "      <th>OK</th>\n",
       "      <th>NV</th>\n",
       "      <th>AL</th>\n",
       "      <th>CA</th>\n",
       "      <th>MS</th>\n",
       "    </tr>\n",
       "  </thead>\n",
       "  <tbody>\n",
       "    <tr>\n",
       "      <th>0</th>\n",
       "      <td>0.1065</td>\n",
       "      <td>0.006786</td>\n",
       "      <td>13648</td>\n",
       "      <td>1</td>\n",
       "      <td>24000.0</td>\n",
       "      <td>0</td>\n",
       "      <td>162.87</td>\n",
       "      <td>4975.0</td>\n",
       "      <td>0.837</td>\n",
       "      <td>6</td>\n",
       "      <td>...</td>\n",
       "      <td>0</td>\n",
       "      <td>0</td>\n",
       "      <td>0</td>\n",
       "      <td>0</td>\n",
       "      <td>0</td>\n",
       "      <td>0</td>\n",
       "      <td>0</td>\n",
       "      <td>0</td>\n",
       "      <td>0</td>\n",
       "      <td>0</td>\n",
       "    </tr>\n",
       "    <tr>\n",
       "      <th>1</th>\n",
       "      <td>0.1527</td>\n",
       "      <td>0.001994</td>\n",
       "      <td>1687</td>\n",
       "      <td>0</td>\n",
       "      <td>30000.0</td>\n",
       "      <td>0</td>\n",
       "      <td>59.83</td>\n",
       "      <td>2500.0</td>\n",
       "      <td>0.094</td>\n",
       "      <td>13</td>\n",
       "      <td>...</td>\n",
       "      <td>0</td>\n",
       "      <td>0</td>\n",
       "      <td>0</td>\n",
       "      <td>0</td>\n",
       "      <td>0</td>\n",
       "      <td>0</td>\n",
       "      <td>0</td>\n",
       "      <td>0</td>\n",
       "      <td>0</td>\n",
       "      <td>0</td>\n",
       "    </tr>\n",
       "    <tr>\n",
       "      <th>2</th>\n",
       "      <td>0.1349</td>\n",
       "      <td>0.006897</td>\n",
       "      <td>5598</td>\n",
       "      <td>1</td>\n",
       "      <td>49200.0</td>\n",
       "      <td>0</td>\n",
       "      <td>339.31</td>\n",
       "      <td>10000.0</td>\n",
       "      <td>0.210</td>\n",
       "      <td>10</td>\n",
       "      <td>...</td>\n",
       "      <td>0</td>\n",
       "      <td>0</td>\n",
       "      <td>0</td>\n",
       "      <td>0</td>\n",
       "      <td>0</td>\n",
       "      <td>0</td>\n",
       "      <td>0</td>\n",
       "      <td>0</td>\n",
       "      <td>1</td>\n",
       "      <td>0</td>\n",
       "    </tr>\n",
       "    <tr>\n",
       "      <th>3</th>\n",
       "      <td>0.1596</td>\n",
       "      <td>0.003618</td>\n",
       "      <td>17726</td>\n",
       "      <td>1</td>\n",
       "      <td>47004.0</td>\n",
       "      <td>0</td>\n",
       "      <td>170.08</td>\n",
       "      <td>7000.0</td>\n",
       "      <td>0.856</td>\n",
       "      <td>14</td>\n",
       "      <td>...</td>\n",
       "      <td>0</td>\n",
       "      <td>0</td>\n",
       "      <td>0</td>\n",
       "      <td>0</td>\n",
       "      <td>0</td>\n",
       "      <td>0</td>\n",
       "      <td>0</td>\n",
       "      <td>0</td>\n",
       "      <td>0</td>\n",
       "      <td>0</td>\n",
       "    </tr>\n",
       "    <tr>\n",
       "      <th>4</th>\n",
       "      <td>0.1864</td>\n",
       "      <td>0.002280</td>\n",
       "      <td>8221</td>\n",
       "      <td>1</td>\n",
       "      <td>48000.0</td>\n",
       "      <td>0</td>\n",
       "      <td>109.43</td>\n",
       "      <td>3000.0</td>\n",
       "      <td>0.875</td>\n",
       "      <td>20</td>\n",
       "      <td>...</td>\n",
       "      <td>0</td>\n",
       "      <td>0</td>\n",
       "      <td>0</td>\n",
       "      <td>0</td>\n",
       "      <td>0</td>\n",
       "      <td>0</td>\n",
       "      <td>0</td>\n",
       "      <td>0</td>\n",
       "      <td>1</td>\n",
       "      <td>0</td>\n",
       "    </tr>\n",
       "  </tbody>\n",
       "</table>\n",
       "<p>5 rows × 40 columns</p>\n",
       "</div>"
      ],
      "text/plain": [
       "   int_rate  installment_percent_of_income  revol_bal  loan_status  \\\n",
       "0    0.1065                       0.006786      13648            1   \n",
       "1    0.1527                       0.001994       1687            0   \n",
       "2    0.1349                       0.006897       5598            1   \n",
       "3    0.1596                       0.003618      17726            1   \n",
       "4    0.1864                       0.002280       8221            1   \n",
       "\n",
       "   annual_inc  pub_rec  installment  funded_amnt_inv  revol_util  sub_grade  \\\n",
       "0     24000.0        0       162.87           4975.0       0.837          6   \n",
       "1     30000.0        0        59.83           2500.0       0.094         13   \n",
       "2     49200.0        0       339.31          10000.0       0.210         10   \n",
       "3     47004.0        0       170.08           7000.0       0.856         14   \n",
       "4     48000.0        0       109.43           3000.0       0.875         20   \n",
       "\n",
       "   ...  TX  KY  LA  VA  MI  OK  NV  AL  CA  MS  \n",
       "0  ...   0   0   0   0   0   0   0   0   0   0  \n",
       "1  ...   0   0   0   0   0   0   0   0   0   0  \n",
       "2  ...   0   0   0   0   0   0   0   0   1   0  \n",
       "3  ...   0   0   0   0   0   0   0   0   0   0  \n",
       "4  ...   0   0   0   0   0   0   0   0   1   0  \n",
       "\n",
       "[5 rows x 40 columns]"
      ]
     },
     "execution_count": 3,
     "metadata": {},
     "output_type": "execute_result"
    }
   ],
   "source": [
    "df = pd.read_excel(\"loan_data_filtered_important.xlsx\")\n",
    "df.head(5)"
   ]
  },
  {
   "cell_type": "code",
   "execution_count": 4,
   "metadata": {},
   "outputs": [],
   "source": [
    "X = df.drop(['loan_status'],axis = 1)\n",
    "y = df['loan_status']\n",
    "\n",
    "from sklearn.model_selection import train_test_split\n",
    "\n",
    "X_train, X_test, y_train, y_test = train_test_split(X, y, test_size = 0.3, random_state = 0)\n",
    "\n",
    "X_train.shape, X_test.shape\n",
    "cols = X_train.columns\n",
    "\n",
    "from sklearn.preprocessing import StandardScaler\n",
    "scaler = StandardScaler()\n",
    "X_train = scaler.fit_transform(X_train)\n",
    "X_test = scaler.transform(X_test)\n",
    "\n",
    "X_train = pd.DataFrame(X_train, columns=[cols])\n",
    "X_test = pd.DataFrame(X_test, columns=[cols])"
   ]
  },
  {
   "cell_type": "markdown",
   "metadata": {},
   "source": [
    "# 1. SVM"
   ]
  },
  {
   "cell_type": "code",
   "execution_count": 5,
   "metadata": {},
   "outputs": [
    {
     "name": "stdout",
     "output_type": "stream",
     "text": [
      "Model accuracy score : 0.8544\n",
      "Confusion metrics :\n",
      " [[6515    0]\n",
      " [1110    0]]\n",
      "              precision    recall  f1-score   support\n",
      "\n",
      "           0       0.00      0.00      0.00      1110\n",
      "           1       0.85      1.00      0.92      6515\n",
      "\n",
      "    accuracy                           0.85      7625\n",
      "   macro avg       0.43      0.50      0.46      7625\n",
      "weighted avg       0.73      0.85      0.79      7625\n",
      "\n"
     ]
    }
   ],
   "source": [
    "from sklearn import metrics\n",
    "from sklearn.metrics import make_scorer, f1_score, recall_score, precision_score\n",
    "svc=SVC() \n",
    "svc.fit(X_train,y_train)\n",
    "y_pred_svc=svc.predict(X_test)\n",
    "\n",
    "print('Model accuracy score : {0:0.4f}'. format(accuracy_score(y_test, y_pred_svc)))\n",
    "print('Confusion metrics :\\n', metrics.confusion_matrix(y_test, y_pred_svc,labels = [1,0]))\n",
    "print(metrics.classification_report(y_test,y_pred_svc))"
   ]
  },
  {
   "cell_type": "markdown",
   "metadata": {},
   "source": [
    "## Parameters tuning"
   ]
  },
  {
   "cell_type": "code",
   "execution_count": 6,
   "metadata": {},
   "outputs": [
    {
     "name": "stdout",
     "output_type": "stream",
     "text": [
      "Tuned hyperparameter parameters: {'C': 0.1}\n",
      "Best cross-validation score: 0.9221727483866229\n"
     ]
    }
   ],
   "source": [
    "from sklearn.model_selection import GridSearchCV\n",
    "\n",
    "svc = SVC()\n",
    "\n",
    "scorer = make_scorer(f1_score)\n",
    "param_grid = {'C': [0.1,1, 10, 100]}\n",
    "svc_turn_cv = GridSearchCV(estimator=svc,\n",
    "                           param_grid=param_grid,\n",
    "                           scoring=scorer,\n",
    "                           cv=10)\n",
    "svc_turn_cv.fit(X_train, y_train)\n",
    "\n",
    "\n",
    "\n",
    "# Print hyperparameter\n",
    "print(\"Tuned hyperparameter parameters: {}\".format(svc_turn_cv.best_params_)) \n",
    "print(\"Best cross-validation score: {}\".format(svc_turn_cv.best_score_))"
   ]
  },
  {
   "cell_type": "code",
   "execution_count": 7,
   "metadata": {},
   "outputs": [
    {
     "name": "stdout",
     "output_type": "stream",
     "text": [
      "Tuned hyperparameter parameters: {'gamma': 0.01}\n",
      "Best cross-validation score: 0.9221074238293262\n"
     ]
    }
   ],
   "source": [
    "from sklearn.model_selection import GridSearchCV\n",
    "\n",
    "svc = SVC()\n",
    "\n",
    "scorer = make_scorer(f1_score)\n",
    "param_grid = {'gamma': [0.01,0.001,0.0001]}\n",
    "svc_turn_cv = GridSearchCV(estimator=svc,\n",
    "                           param_grid=param_grid,\n",
    "                           scoring=scorer,\n",
    "                           cv=10)\n",
    "svc_turn_cv.fit(X_train, y_train)\n",
    "\n",
    "\n",
    "\n",
    "# Print hyperparameter\n",
    "print(\"Tuned hyperparameter parameters: {}\".format(svc_turn_cv.best_params_)) \n",
    "print(\"Best cross-validation score: {}\".format(svc_turn_cv.best_score_))"
   ]
  },
  {
   "cell_type": "code",
   "execution_count": 8,
   "metadata": {},
   "outputs": [
    {
     "name": "stdout",
     "output_type": "stream",
     "text": [
      "Tuned hyperparameter parameters: {'kernel': 'rbf'}\n",
      "Best cross-validation score: 0.9221400861079745\n"
     ]
    }
   ],
   "source": [
    "from sklearn.model_selection import GridSearchCV\n",
    "\n",
    "svc = SVC()\n",
    "\n",
    "scorer = make_scorer(f1_score)\n",
    "param_grid = {'kernel': ['rbf', 'poly', 'sigmoid']}\n",
    "svc_turn_cv = GridSearchCV(estimator=svc,\n",
    "                           param_grid=param_grid,\n",
    "                           scoring=scorer,\n",
    "                           cv=10)\n",
    "svc_turn_cv.fit(X_train, y_train)\n",
    "\n",
    "\n",
    "\n",
    "# Print hyperparameter\n",
    "print(\"Tuned hyperparameter parameters: {}\".format(svc_turn_cv.best_params_)) \n",
    "print(\"Best cross-validation score: {}\".format(svc_turn_cv.best_score_))"
   ]
  },
  {
   "cell_type": "markdown",
   "metadata": {},
   "source": [
    "## Final SVM model"
   ]
  },
  {
   "cell_type": "code",
   "execution_count": 9,
   "metadata": {},
   "outputs": [
    {
     "name": "stdout",
     "output_type": "stream",
     "text": [
      "Model accuracy score : 0.8544\n",
      "Confusion metrics :\n",
      " [[6515    0]\n",
      " [1110    0]]\n",
      "              precision    recall  f1-score   support\n",
      "\n",
      "           0       0.00      0.00      0.00      1110\n",
      "           1       0.85      1.00      0.92      6515\n",
      "\n",
      "    accuracy                           0.85      7625\n",
      "   macro avg       0.43      0.50      0.46      7625\n",
      "weighted avg       0.73      0.85      0.79      7625\n",
      "\n"
     ]
    }
   ],
   "source": [
    "from sklearn import metrics\n",
    "from sklearn.metrics import make_scorer, f1_score, recall_score, precision_score\n",
    "svc=SVC(C = 0.1, gamma=0.01,kernel='rbf') \n",
    "svc.fit(X_train,y_train)\n",
    "y_pred_svc=svc.predict(X_test)\n",
    "\n",
    "print('Model accuracy score : {0:0.4f}'. format(accuracy_score(y_test, y_pred_svc)))\n",
    "print('Confusion metrics :\\n', metrics.confusion_matrix(y_test, y_pred_svc,labels = [1,0]))\n",
    "print(metrics.classification_report(y_test,y_pred_svc))"
   ]
  },
  {
   "cell_type": "code",
   "execution_count": null,
   "metadata": {},
   "outputs": [],
   "source": []
  },
  {
   "cell_type": "markdown",
   "metadata": {},
   "source": [
    "# 2. Logistics Regression"
   ]
  },
  {
   "cell_type": "code",
   "execution_count": 10,
   "metadata": {},
   "outputs": [
    {
     "name": "stdout",
     "output_type": "stream",
     "text": [
      "              precision    recall  f1-score   support\n",
      "\n",
      "           0       0.45      0.02      0.03      1110\n",
      "           1       0.86      1.00      0.92      6515\n",
      "\n",
      "    accuracy                           0.85      7625\n",
      "   macro avg       0.66      0.51      0.48      7625\n",
      "weighted avg       0.80      0.85      0.79      7625\n",
      "\n",
      "Confusion metrics :\n",
      " [[6491   24]\n",
      " [1090   20]]\n",
      "Model accuracy score with default hyperparameters: 0.8539\n"
     ]
    }
   ],
   "source": [
    "lg = LogisticRegression(random_state=0)\n",
    "lg.fit(X_train,y_train)\n",
    "y_pred_lg = lg.predict(X_test)\n",
    "\n",
    "print(metrics.classification_report(y_test,y_pred_lg))\n",
    "print('Confusion metrics :\\n', metrics.confusion_matrix(y_test, y_pred_lg,labels = [1,0]))\n",
    "print('Model accuracy score with default hyperparameters: {0:0.4f}'. format(accuracy_score(y_test, y_pred_lg)))"
   ]
  },
  {
   "cell_type": "code",
   "execution_count": 14,
   "metadata": {},
   "outputs": [
    {
     "name": "stdout",
     "output_type": "stream",
     "text": [
      "LogisticRegression(random_state=0)\n"
     ]
    }
   ],
   "source": [
    "print(lg)"
   ]
  },
  {
   "cell_type": "code",
   "execution_count": 15,
   "metadata": {},
   "outputs": [],
   "source": [
    "# import sklearn\n",
    "\n",
    "# sklearn.metrics.SCORERS.keys()"
   ]
  },
  {
   "cell_type": "markdown",
   "metadata": {},
   "source": [
    "## Parameters tuning"
   ]
  },
  {
   "cell_type": "code",
   "execution_count": 11,
   "metadata": {
    "scrolled": true
   },
   "outputs": [
    {
     "name": "stdout",
     "output_type": "stream",
     "text": [
      "Tuned hyperparameter parameters: {'C': 0.001, 'penalty': 'l1', 'solver': 'liblinear'}\n",
      "Best cross-validation score: 0.9221727483866229\n"
     ]
    }
   ],
   "source": [
    "from sklearn.model_selection import GridSearchCV\n",
    "lg = LogisticRegression()\n",
    "param_grid = {'C': [0.001, 0.01, 0.1, 1, 10,100],\n",
    "              'solver': ['liblinear', 'lbfgs', 'sag', 'saga','newton-cg'],\n",
    "              'penalty':['l1','l2','elasticnet','none']}\n",
    "\n",
    "from sklearn import metrics\n",
    "from sklearn.metrics import make_scorer, f1_score, recall_score, precision_score\n",
    "\n",
    "# scorer = make_scorer(f1_score, pos_label = 0)\n",
    "scorer = make_scorer(f1_score)\n",
    "lg_tuning = GridSearchCV(estimator=lg,\n",
    "                         param_grid=param_grid,\n",
    "                         scoring=scorer,\n",
    "                         cv=10)\n",
    "lg_tuning.fit(X_train, y_train)\n",
    "\n",
    "\n",
    "\n",
    "# Print hyperparameter\n",
    "print(\"Tuned hyperparameter parameters: {}\".format(lg_tuning.best_params_)) \n",
    "print(\"Best cross-validation score: {}\".format(lg_tuning.best_score_))"
   ]
  },
  {
   "cell_type": "markdown",
   "metadata": {},
   "source": [
    "### Final LG mdoel"
   ]
  },
  {
   "cell_type": "code",
   "execution_count": 12,
   "metadata": {},
   "outputs": [
    {
     "name": "stdout",
     "output_type": "stream",
     "text": [
      "Model accuracy score : 0.8544\n",
      "Confusion metrics :\n",
      " [[6515    0]\n",
      " [1110    0]]\n",
      "              precision    recall  f1-score   support\n",
      "\n",
      "           0       0.00      0.00      0.00      1110\n",
      "           1       0.85      1.00      0.92      6515\n",
      "\n",
      "    accuracy                           0.85      7625\n",
      "   macro avg       0.43      0.50      0.46      7625\n",
      "weighted avg       0.73      0.85      0.79      7625\n",
      "\n"
     ]
    }
   ],
   "source": [
    "from sklearn import metrics\n",
    "lg = LogisticRegression(C = 0.001, solver = 'liblinear', penalty = 'l1')\n",
    "lg.fit(X_train,y_train)\n",
    "y_pred_lg = lg.predict(X_test)\n",
    "\n",
    "print('Model accuracy score : {0:0.4f}'. format(accuracy_score(y_test, y_pred_lg)))\n",
    "print('Confusion metrics :\\n', metrics.confusion_matrix(y_test, y_pred_lg,labels = [1,0]))\n",
    "print(metrics.classification_report(y_test,y_pred_lg))"
   ]
  },
  {
   "cell_type": "markdown",
   "metadata": {},
   "source": [
    "# 3. Decision tree"
   ]
  },
  {
   "cell_type": "code",
   "execution_count": 13,
   "metadata": {
    "scrolled": true
   },
   "outputs": [
    {
     "name": "stdout",
     "output_type": "stream",
     "text": [
      "Model accuracy score : 0.7557\n",
      "Confusion metrics :\n",
      " [[ 250  860]\n",
      " [1003 5512]]\n",
      "              precision    recall  f1-score   support\n",
      "\n",
      "           0       0.20      0.23      0.21      1110\n",
      "           1       0.87      0.85      0.86      6515\n",
      "\n",
      "    accuracy                           0.76      7625\n",
      "   macro avg       0.53      0.54      0.53      7625\n",
      "weighted avg       0.77      0.76      0.76      7625\n",
      "\n"
     ]
    }
   ],
   "source": [
    "from sklearn.tree import DecisionTreeClassifier\n",
    "dt = DecisionTreeClassifier()\n",
    "dt.fit(X_train,y_train)\n",
    "y_pred_dt = dt.predict(X_test)\n",
    "\n",
    "print('Model accuracy score : {0:0.4f}'. format(accuracy_score(y_test, y_pred_dt)))\n",
    "print('Confusion metrics :\\n', metrics.confusion_matrix(y_test, y_pred_dt))\n",
    "print(metrics.classification_report(y_test,y_pred_dt))"
   ]
  },
  {
   "cell_type": "code",
   "execution_count": 14,
   "metadata": {},
   "outputs": [
    {
     "name": "stdout",
     "output_type": "stream",
     "text": [
      "DecisionTreeClassifier(ccp_alpha=0.0, class_weight=None, criterion='gini',\n",
      "                       max_depth=None, max_features=None, max_leaf_nodes=None,\n",
      "                       min_impurity_decrease=0.0, min_impurity_split=None,\n",
      "                       min_samples_leaf=1, min_samples_split=2,\n",
      "                       min_weight_fraction_leaf=0.0, presort='deprecated',\n",
      "                       random_state=None, splitter='best')\n"
     ]
    }
   ],
   "source": [
    "print(dt)"
   ]
  },
  {
   "cell_type": "markdown",
   "metadata": {},
   "source": [
    "## Parameter tuning"
   ]
  },
  {
   "cell_type": "code",
   "execution_count": 15,
   "metadata": {},
   "outputs": [
    {
     "name": "stdout",
     "output_type": "stream",
     "text": [
      "Tuned hyperparameter parameters: {'criterion': 'gini', 'max_depth': 2}\n",
      "Best cross-validation score: 0.9221727483866229\n"
     ]
    }
   ],
   "source": [
    "from sklearn.model_selection import GridSearchCV\n",
    "dt = DecisionTreeClassifier()\n",
    "param_grid = {'criterion' : ['gini', 'entropy'],\n",
    "              'max_depth' : [2,4,6,8,10,12,14]}\n",
    "\n",
    "from sklearn import metrics\n",
    "from sklearn.metrics import make_scorer, f1_score, recall_score, precision_score\n",
    "\n",
    "\n",
    "scorer = make_scorer(f1_score)\n",
    "dt_tuning = GridSearchCV(estimator=dt,\n",
    "                         param_grid=param_grid,\n",
    "                         scoring=scorer,\n",
    "                         cv=10)\n",
    "dt_tuning.fit(X_train, y_train)\n",
    "\n",
    "\n",
    "\n",
    "# Print hyperparameter\n",
    "print(\"Tuned hyperparameter parameters: {}\".format(dt_tuning.best_params_)) \n",
    "print(\"Best cross-validation score: {}\".format(dt_tuning.best_score_))\n",
    "\n"
   ]
  },
  {
   "cell_type": "code",
   "execution_count": null,
   "metadata": {},
   "outputs": [],
   "source": []
  },
  {
   "cell_type": "code",
   "execution_count": null,
   "metadata": {},
   "outputs": [],
   "source": []
  },
  {
   "cell_type": "markdown",
   "metadata": {},
   "source": [
    "## Final DT model"
   ]
  },
  {
   "cell_type": "code",
   "execution_count": 16,
   "metadata": {},
   "outputs": [
    {
     "name": "stdout",
     "output_type": "stream",
     "text": [
      "Model accuracy score : 0.8544\n",
      "Confusion metrics :\n",
      " [[   0 1110]\n",
      " [   0 6515]]\n",
      "              precision    recall  f1-score   support\n",
      "\n",
      "           0       0.00      0.00      0.00      1110\n",
      "           1       0.85      1.00      0.92      6515\n",
      "\n",
      "    accuracy                           0.85      7625\n",
      "   macro avg       0.43      0.50      0.46      7625\n",
      "weighted avg       0.73      0.85      0.79      7625\n",
      "\n"
     ]
    }
   ],
   "source": [
    "from sklearn.tree import DecisionTreeClassifier\n",
    "dt = DecisionTreeClassifier(criterion='gini',max_depth=2)\n",
    "dt.fit(X_train,y_train)\n",
    "y_pred_dt = dt.predict(X_test)\n",
    "\n",
    "print('Model accuracy score : {0:0.4f}'. format(accuracy_score(y_test, y_pred_dt)))\n",
    "print('Confusion metrics :\\n', metrics.confusion_matrix(y_test, y_pred_dt))\n",
    "print(metrics.classification_report(y_test,y_pred_dt))"
   ]
  },
  {
   "cell_type": "code",
   "execution_count": null,
   "metadata": {},
   "outputs": [],
   "source": []
  },
  {
   "cell_type": "code",
   "execution_count": null,
   "metadata": {},
   "outputs": [],
   "source": []
  },
  {
   "cell_type": "code",
   "execution_count": null,
   "metadata": {},
   "outputs": [],
   "source": []
  },
  {
   "cell_type": "code",
   "execution_count": null,
   "metadata": {},
   "outputs": [],
   "source": []
  },
  {
   "cell_type": "code",
   "execution_count": null,
   "metadata": {},
   "outputs": [],
   "source": []
  }
 ],
 "metadata": {
  "kernelspec": {
   "display_name": "Python 3",
   "language": "python",
   "name": "python3"
  },
  "language_info": {
   "codemirror_mode": {
    "name": "ipython",
    "version": 3
   },
   "file_extension": ".py",
   "mimetype": "text/x-python",
   "name": "python",
   "nbconvert_exporter": "python",
   "pygments_lexer": "ipython3",
   "version": "3.8.8"
  }
 },
 "nbformat": 4,
 "nbformat_minor": 4
}
