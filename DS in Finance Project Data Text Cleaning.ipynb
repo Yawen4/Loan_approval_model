{
 "cells": [
  {
   "cell_type": "code",
   "execution_count": 1,
   "metadata": {},
   "outputs": [],
   "source": [
    "import re\n",
    "import nltk\n",
    "from nltk.corpus import stopwords\n",
    "from nltk.tokenize import word_tokenize\n",
    "import pandas as pd\n",
    "#nltk.download('stopwords')\n",
    "from nltk.stem import WordNetLemmatizer \n",
    "from sklearn.model_selection import train_test_split\n",
    "import os"
   ]
  },
  {
   "cell_type": "code",
   "execution_count": 3,
   "metadata": {},
   "outputs": [],
   "source": [
    "df = pd.read_excel(\"loan_processed.xlsx\")"
   ]
  },
  {
   "cell_type": "code",
   "execution_count": 25,
   "metadata": {},
   "outputs": [],
   "source": [
    "def cleanmessage(string):\n",
    "    lemmatizer = WordNetLemmatizer()\n",
    "    stop_words = set(stopwords.words('english'))\n",
    "\n",
    "    string = string.lower()\n",
    "    string = nltk.word_tokenize(string)\n",
    "    string = [w for w in string if w.isalnum()]\n",
    "    string = [lemmatizer.lemmatize(w) for w in string]\n",
    "    string = ' '.join(string)\n",
    "    return string"
   ]
  },
  {
   "cell_type": "code",
   "execution_count": null,
   "metadata": {
    "scrolled": true
   },
   "outputs": [],
   "source": [
    "cleaned_list = []\n",
    "count = 0\n",
    "for string in df[\"desc_full\"]:\n",
    "    print(count)\n",
    "    count+=1\n",
    "    cleaned_string = re.sub(r\"<br>\", \"\", string)\n",
    "    cleaned_string = re.sub(r\"Borrower added on [0-9]+/[0-9]+/[0-9]+ >\", \"\", cleaned_string)\n",
    "    cleaned_string = re.sub(r\"[0-9]+\", \"number\", cleaned_string)\n",
    "    regex = re.compile('[^a-zA-Z ]')\n",
    "    cleaned_string = regex.sub('', cleaned_string)\n",
    "\n",
    "    text_tokens = word_tokenize(cleaned_string)\n",
    "    tokens_without_sw = [word for word in text_tokens if not word in stopwords.words()]\n",
    "    cleaned_string = \" \".join(tokens_without_sw)\n",
    "    cleaned_list.append(cleanmessage(cleaned_string))\n",
    "            \n",
    "df[\"cleaned_desc\"] = cleaned_list"
   ]
  },
  {
   "cell_type": "code",
   "execution_count": 7,
   "metadata": {},
   "outputs": [],
   "source": [
    "X_train, X_test, y_train, y_test = train_test_split(df, df[\"loan_status\"], test_size=0.1, random_state=42)"
   ]
  },
  {
   "cell_type": "code",
   "execution_count": 19,
   "metadata": {},
   "outputs": [],
   "source": [
    "\n",
    "document_class = {1: [],\n",
    " 0: []\n",
    "}\n",
    "\n",
    "for index, row in X_train.iterrows():\n",
    "    document_class[row[\"loan_status\"]].append(row[\"cleaned_desc\"])\n",
    "        \n",
    "\n",
    "for key in document_class:\n",
    "    try:\n",
    "        os.makedirs(\"loan_status/{}\".format(key))\n",
    "    except FileExistsError:\n",
    "        pass\n",
    "    count = 0\n",
    "    for i in document_class[key]:\n",
    "        textfile = open(\"loan_status/{}/{}_file{}.txt\".format(key, key, count), \"w\")\n",
    "        textfile.write(str(i))\n",
    "        textfile.close()\n",
    "        count += 1"
   ]
  },
  {
   "cell_type": "code",
   "execution_count": 20,
   "metadata": {},
   "outputs": [],
   "source": [
    "\n",
    "document_class = {1: [],\n",
    " 0: []\n",
    "}\n",
    "\n",
    "for index, row in X_test.iterrows():\n",
    "    document_class[row[\"loan_status\"]].append(row[\"cleaned_desc\"])\n",
    "        \n",
    "\n",
    "for key in document_class:\n",
    "    try:\n",
    "        os.makedirs(\"loan_status_eval/{}\".format(key))\n",
    "    except FileExistsError:\n",
    "        pass\n",
    "    count = 0\n",
    "    for i in document_class[key]:\n",
    "        textfile = open(\"loan_status_eval/{}/{}_file{}.txt\".format(key, key, count), \"w\")\n",
    "        textfile.write(str(i))\n",
    "        textfile.close()\n",
    "        count += 1"
   ]
  },
  {
   "cell_type": "code",
   "execution_count": 2,
   "metadata": {},
   "outputs": [],
   "source": [
    "df = pd.read_excel(\"loan_processed_cleaned.xlsx\")"
   ]
  },
  {
   "cell_type": "code",
   "execution_count": 7,
   "metadata": {},
   "outputs": [],
   "source": [
    "df_important = pd.read_excel(\"loan_data_filtered_important.xlsx\")"
   ]
  },
  {
   "cell_type": "code",
   "execution_count": 3,
   "metadata": {},
   "outputs": [],
   "source": [
    "from textblob import TextBlob"
   ]
  },
  {
   "cell_type": "code",
   "execution_count": 4,
   "metadata": {},
   "outputs": [],
   "source": [
    "def getSubjectivity(text):\n",
    "    return TextBlob(text).sentiment.subjectivity\n",
    "\n",
    "def getPolarity(text):\n",
    "    return TextBlob(text).sentiment.polarity"
   ]
  },
  {
   "cell_type": "code",
   "execution_count": 11,
   "metadata": {
    "scrolled": true
   },
   "outputs": [],
   "source": [
    "subjectivity = []\n",
    "polarity = []\n",
    "\n",
    "for text in df[\"cleaned_desc\"]:\n",
    "    try:\n",
    "        subjectivity.append(getSubjectivity(text))\n",
    "        polarity.append(getPolarity(text))\n",
    "    except:\n",
    "        subjectivity.append(0)\n",
    "        polarity.append(0)"
   ]
  },
  {
   "cell_type": "code",
   "execution_count": 12,
   "metadata": {},
   "outputs": [],
   "source": [
    "df_important[\"polarity\"] = polarity\n",
    "df_important[\"subjectivity\"] = subjectivity"
   ]
  },
  {
   "cell_type": "code",
   "execution_count": 13,
   "metadata": {},
   "outputs": [],
   "source": [
    "df_important.to_excel(\"loan_data_final.xlsx\", index = False)"
   ]
  },
  {
   "cell_type": "code",
   "execution_count": null,
   "metadata": {},
   "outputs": [],
   "source": []
  }
 ],
 "metadata": {
  "kernelspec": {
   "display_name": "Python 3",
   "language": "python",
   "name": "python3"
  },
  "language_info": {
   "codemirror_mode": {
    "name": "ipython",
    "version": 3
   },
   "file_extension": ".py",
   "mimetype": "text/x-python",
   "name": "python",
   "nbconvert_exporter": "python",
   "pygments_lexer": "ipython3",
   "version": "3.8.5"
  }
 },
 "nbformat": 4,
 "nbformat_minor": 4
}
