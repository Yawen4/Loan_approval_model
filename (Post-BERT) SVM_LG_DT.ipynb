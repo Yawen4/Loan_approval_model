{
 "cells": [
  {
   "cell_type": "code",
   "execution_count": 1,
   "metadata": {},
   "outputs": [],
   "source": [
    "import pandas as pd\n",
    "from sklearn.ensemble import RandomForestClassifier\n",
    "from matplotlib import pyplot\n",
    "\n",
    "import numpy as np\n",
    "from sklearn.model_selection import train_test_split\n",
    "\n",
    "#Transforming\n",
    "from sklearn.preprocessing import MinMaxScaler\n",
    "from sklearn.decomposition import PCA\n",
    "\n",
    "#cluster and Eval\n",
    "from sklearn.cluster import KMeans\n",
    "from sklearn.metrics import davies_bouldin_score\n",
    "from sklearn.metrics import silhouette_samples, silhouette_score\n",
    "import matplotlib.cm as cm\n",
    "from sklearn.manifold import TSNE\n",
    "from sklearn import decomposition\n",
    "\n",
    "#Visualization\n",
    "import matplotlib.pyplot as plt\n",
    "import plotly.express as px\n",
    "\n",
    "from sklearn.svm import LinearSVC"
   ]
  },
  {
   "cell_type": "code",
   "execution_count": 2,
   "metadata": {},
   "outputs": [],
   "source": [
    "from sklearn import svm\n",
    "from sklearn.svm import SVC\n",
    "from sklearn.linear_model import LogisticRegression\n",
    "from sklearn.metrics import accuracy_score\n",
    "import warnings\n",
    "warnings.filterwarnings('ignore')"
   ]
  },
  {
   "cell_type": "code",
   "execution_count": 3,
   "metadata": {},
   "outputs": [],
   "source": [
    "df = pd.read_excel(\"loan_data_final.xlsx\")"
   ]
  },
  {
   "cell_type": "code",
   "execution_count": 4,
   "metadata": {},
   "outputs": [],
   "source": [
    "X = df.drop(['loan_status'],axis = 1)\n",
    "y = df['loan_status']\n",
    "\n",
    "from sklearn.model_selection import train_test_split\n",
    "\n",
    "X_train, X_test, y_train, y_test = train_test_split(X, y, test_size = 0.3, random_state = 0)\n",
    "\n",
    "X_train.shape, X_test.shape\n",
    "cols = X_train.columns\n",
    "\n",
    "from sklearn.preprocessing import StandardScaler\n",
    "scaler = StandardScaler()\n",
    "X_train = scaler.fit_transform(X_train)\n",
    "X_test = scaler.transform(X_test)\n",
    "\n",
    "X_train = pd.DataFrame(X_train, columns=[cols])\n",
    "X_test = pd.DataFrame(X_test, columns=[cols])"
   ]
  },
  {
   "cell_type": "markdown",
   "metadata": {},
   "source": [
    "# 1. SVM"
   ]
  },
  {
   "cell_type": "code",
   "execution_count": 6,
   "metadata": {},
   "outputs": [
    {
     "name": "stdout",
     "output_type": "stream",
     "text": [
      "Model accuracy score : 0.9205\n",
      "Confusion metrics :\n",
      " [[6382  119]\n",
      " [ 487  637]]\n",
      "              precision    recall  f1-score   support\n",
      "\n",
      "           0       0.84      0.57      0.68      1124\n",
      "           1       0.93      0.98      0.95      6501\n",
      "\n",
      "    accuracy                           0.92      7625\n",
      "   macro avg       0.89      0.77      0.82      7625\n",
      "weighted avg       0.92      0.92      0.91      7625\n",
      "\n"
     ]
    }
   ],
   "source": [
    "from sklearn import metrics\n",
    "from sklearn.metrics import make_scorer, f1_score, recall_score, precision_score\n",
    "svc=SVC() \n",
    "svc.fit(X_train,y_train)\n",
    "y_pred_svc=svc.predict(X_test)\n",
    "\n",
    "print('Model accuracy score : {0:0.4f}'. format(accuracy_score(y_test, y_pred_svc)))\n",
    "print('Confusion metrics :\\n', metrics.confusion_matrix(y_test, y_pred_svc,labels = [1,0]))\n",
    "print(metrics.classification_report(y_test,y_pred_svc))"
   ]
  },
  {
   "cell_type": "markdown",
   "metadata": {},
   "source": [
    "## Parameters tuning"
   ]
  },
  {
   "cell_type": "code",
   "execution_count": 22,
   "metadata": {},
   "outputs": [
    {
     "name": "stdout",
     "output_type": "stream",
     "text": [
      "Tuned hyperparameter parameters: {'C': 1}\n",
      "Best cross-validation score: 0.9580234657023574\n"
     ]
    }
   ],
   "source": [
    "from sklearn.model_selection import GridSearchCV\n",
    "\n",
    "svc = SVC()\n",
    "\n",
    "scorer = make_scorer(f1_score)\n",
    "param_grid = {'C': [0.1,1, 10, 100]}\n",
    "svc_turn_cv = GridSearchCV(estimator=svc,\n",
    "                           param_grid=param_grid,\n",
    "                           scoring=scorer,\n",
    "                           cv=10)\n",
    "svc_turn_cv.fit(X_train, y_train)\n",
    "\n",
    "\n",
    "\n",
    "# Print hyperparameter\n",
    "print(\"Tuned hyperparameter parameters: {}\".format(svc_turn_cv.best_params_)) \n",
    "print(\"Best cross-validation score: {}\".format(svc_turn_cv.best_score_))"
   ]
  },
  {
   "cell_type": "code",
   "execution_count": 23,
   "metadata": {},
   "outputs": [
    {
     "name": "stdout",
     "output_type": "stream",
     "text": [
      "Tuned hyperparameter parameters: {'gamma': 0.0001}\n",
      "Best cross-validation score: 0.9588306609768507\n"
     ]
    }
   ],
   "source": [
    "from sklearn.model_selection import GridSearchCV\n",
    "\n",
    "svc = SVC()\n",
    "\n",
    "scorer = make_scorer(f1_score)\n",
    "param_grid = {'gamma': [1,0.1,0.01,0.001,0.0001]}\n",
    "svc_turn_cv = GridSearchCV(estimator=svc,\n",
    "                           param_grid=param_grid,\n",
    "                           scoring=scorer,\n",
    "                           cv=10)\n",
    "svc_turn_cv.fit(X_train, y_train)\n",
    "\n",
    "\n",
    "\n",
    "# Print hyperparameter\n",
    "print(\"Tuned hyperparameter parameters: {}\".format(svc_turn_cv.best_params_)) \n",
    "print(\"Best cross-validation score: {}\".format(svc_turn_cv.best_score_))"
   ]
  },
  {
   "cell_type": "code",
   "execution_count": 24,
   "metadata": {},
   "outputs": [
    {
     "name": "stdout",
     "output_type": "stream",
     "text": [
      "Tuned hyperparameter parameters: {'kernel': 'rbf'}\n",
      "Best cross-validation score: 0.9580234657023574\n"
     ]
    }
   ],
   "source": [
    "from sklearn.model_selection import GridSearchCV\n",
    "\n",
    "svc = SVC()\n",
    "\n",
    "scorer = make_scorer(f1_score)\n",
    "param_grid = {'kernel': ['rbf', 'poly', 'sigmoid']}\n",
    "svc_turn_cv = GridSearchCV(estimator=svc,\n",
    "                           param_grid=param_grid,\n",
    "                           scoring=scorer,\n",
    "                           cv=10)\n",
    "svc_turn_cv.fit(X_train, y_train)\n",
    "\n",
    "\n",
    "\n",
    "# Print hyperparameter\n",
    "print(\"Tuned hyperparameter parameters: {}\".format(svc_turn_cv.best_params_)) \n",
    "print(\"Best cross-validation score: {}\".format(svc_turn_cv.best_score_))"
   ]
  },
  {
   "cell_type": "code",
   "execution_count": 25,
   "metadata": {},
   "outputs": [
    {
     "name": "stdout",
     "output_type": "stream",
     "text": [
      "Model accuracy score : 0.9216\n",
      "Confusion metrics :\n",
      " [[6376  125]\n",
      " [ 473  651]]\n",
      "              precision    recall  f1-score   support\n",
      "\n",
      "           0       0.84      0.58      0.69      1124\n",
      "           1       0.93      0.98      0.96      6501\n",
      "\n",
      "    accuracy                           0.92      7625\n",
      "   macro avg       0.88      0.78      0.82      7625\n",
      "weighted avg       0.92      0.92      0.92      7625\n",
      "\n"
     ]
    }
   ],
   "source": [
    "from sklearn import metrics\n",
    "from sklearn.metrics import make_scorer, f1_score, recall_score, precision_score\n",
    "svc=SVC(C = 1, gamma=0.0001,kernel='rbf') \n",
    "svc.fit(X_train,y_train)\n",
    "y_pred_svc=svc.predict(X_test)\n",
    "\n",
    "print('Model accuracy score : {0:0.4f}'. format(accuracy_score(y_test, y_pred_svc)))\n",
    "print('Confusion metrics :\\n', metrics.confusion_matrix(y_test, y_pred_svc,labels = [1,0]))\n",
    "print(metrics.classification_report(y_test,y_pred_svc))"
   ]
  },
  {
   "cell_type": "code",
   "execution_count": null,
   "metadata": {},
   "outputs": [],
   "source": []
  },
  {
   "cell_type": "code",
   "execution_count": null,
   "metadata": {},
   "outputs": [],
   "source": []
  },
  {
   "cell_type": "markdown",
   "metadata": {},
   "source": [
    "## Final SVM model"
   ]
  },
  {
   "cell_type": "code",
   "execution_count": null,
   "metadata": {},
   "outputs": [],
   "source": []
  },
  {
   "cell_type": "markdown",
   "metadata": {},
   "source": [
    "# 2. Logistics Regression"
   ]
  },
  {
   "cell_type": "code",
   "execution_count": 8,
   "metadata": {},
   "outputs": [
    {
     "name": "stdout",
     "output_type": "stream",
     "text": [
      "              precision    recall  f1-score   support\n",
      "\n",
      "           0       0.84      0.58      0.68      1124\n",
      "           1       0.93      0.98      0.95      6501\n",
      "\n",
      "    accuracy                           0.92      7625\n",
      "   macro avg       0.88      0.78      0.82      7625\n",
      "weighted avg       0.92      0.92      0.91      7625\n",
      "\n",
      "Confusion metrics :\n",
      " [[6376  125]\n",
      " [ 476  648]]\n",
      "Model accuracy score with default hyperparameters: 0.9212\n"
     ]
    }
   ],
   "source": [
    "lg = LogisticRegression(random_state=0)\n",
    "lg.fit(X_train,y_train)\n",
    "y_pred_lg = lg.predict(X_test)\n",
    "\n",
    "print(metrics.classification_report(y_test,y_pred_lg))\n",
    "print('Confusion metrics :\\n', metrics.confusion_matrix(y_test, y_pred_lg,labels = [1,0]))\n",
    "print('Model accuracy score with default hyperparameters: {0:0.4f}'. format(accuracy_score(y_test, y_pred_lg)))"
   ]
  },
  {
   "cell_type": "code",
   "execution_count": 9,
   "metadata": {},
   "outputs": [
    {
     "name": "stdout",
     "output_type": "stream",
     "text": [
      "LogisticRegression(C=1.0, class_weight=None, dual=False, fit_intercept=True,\n",
      "                   intercept_scaling=1, l1_ratio=None, max_iter=100,\n",
      "                   multi_class='auto', n_jobs=None, penalty='l2',\n",
      "                   random_state=0, solver='lbfgs', tol=0.0001, verbose=0,\n",
      "                   warm_start=False)\n"
     ]
    }
   ],
   "source": [
    "print(lg)"
   ]
  },
  {
   "cell_type": "code",
   "execution_count": null,
   "metadata": {},
   "outputs": [],
   "source": [
    "# import sklearn\n",
    "\n",
    "# sklearn.metrics.SCORERS.keys()"
   ]
  },
  {
   "cell_type": "markdown",
   "metadata": {},
   "source": [
    "## Parameters tuning"
   ]
  },
  {
   "cell_type": "code",
   "execution_count": 10,
   "metadata": {
    "scrolled": true
   },
   "outputs": [
    {
     "name": "stdout",
     "output_type": "stream",
     "text": [
      "Tuned hyperparameter parameters: {'C': 0.001, 'penalty': 'none', 'solver': 'sag'}\n",
      "Best cross-validation score: 0.958897282291819\n"
     ]
    }
   ],
   "source": [
    "from sklearn.model_selection import GridSearchCV\n",
    "lg = LogisticRegression()\n",
    "param_grid = {'C': [0.001, 0.01, 0.1, 1, 10,100],\n",
    "              'solver': ['liblinear', 'lbfgs', 'sag', 'saga','newton-cg'],\n",
    "              'penalty':['l1','l2','elasticnet','none']}\n",
    "\n",
    "from sklearn import metrics\n",
    "from sklearn.metrics import make_scorer, f1_score, recall_score, precision_score\n",
    "\n",
    "# scorer = make_scorer(f1_score, pos_label = 0)\n",
    "scorer = make_scorer(f1_score)\n",
    "lg_tuning = GridSearchCV(estimator=lg,\n",
    "                         param_grid=param_grid,\n",
    "                         scoring=scorer,\n",
    "                         cv=10)\n",
    "lg_tuning.fit(X_train, y_train)\n",
    "\n",
    "\n",
    "\n",
    "# Print hyperparameter\n",
    "print(\"Tuned hyperparameter parameters: {}\".format(lg_tuning.best_params_)) \n",
    "print(\"Best cross-validation score: {}\".format(lg_tuning.best_score_))"
   ]
  },
  {
   "cell_type": "markdown",
   "metadata": {},
   "source": [
    "### Final LG mdoel"
   ]
  },
  {
   "cell_type": "code",
   "execution_count": 11,
   "metadata": {},
   "outputs": [
    {
     "name": "stdout",
     "output_type": "stream",
     "text": [
      "Model accuracy score : 0.9212\n",
      "Confusion metrics :\n",
      " [[6376  125]\n",
      " [ 476  648]]\n",
      "              precision    recall  f1-score   support\n",
      "\n",
      "           0       0.84      0.58      0.68      1124\n",
      "           1       0.93      0.98      0.95      6501\n",
      "\n",
      "    accuracy                           0.92      7625\n",
      "   macro avg       0.88      0.78      0.82      7625\n",
      "weighted avg       0.92      0.92      0.91      7625\n",
      "\n"
     ]
    }
   ],
   "source": [
    "from sklearn import metrics\n",
    "lg = LogisticRegression(C = 0.001, solver = 'sag', penalty = 'none')\n",
    "lg.fit(X_train,y_train)\n",
    "y_pred_lg = lg.predict(X_test)\n",
    "\n",
    "print('Model accuracy score : {0:0.4f}'. format(accuracy_score(y_test, y_pred_lg)))\n",
    "print('Confusion metrics :\\n', metrics.confusion_matrix(y_test, y_pred_lg,labels = [1,0]))\n",
    "print(metrics.classification_report(y_test,y_pred_lg))"
   ]
  },
  {
   "cell_type": "markdown",
   "metadata": {},
   "source": [
    "# 3. Decision tree"
   ]
  },
  {
   "cell_type": "code",
   "execution_count": 12,
   "metadata": {
    "scrolled": true
   },
   "outputs": [
    {
     "name": "stdout",
     "output_type": "stream",
     "text": [
      "Model accuracy score : 0.8620\n",
      "Confusion metrics :\n",
      " [[ 638  486]\n",
      " [ 566 5935]]\n",
      "              precision    recall  f1-score   support\n",
      "\n",
      "           0       0.53      0.57      0.55      1124\n",
      "           1       0.92      0.91      0.92      6501\n",
      "\n",
      "    accuracy                           0.86      7625\n",
      "   macro avg       0.73      0.74      0.73      7625\n",
      "weighted avg       0.87      0.86      0.86      7625\n",
      "\n"
     ]
    }
   ],
   "source": [
    "from sklearn.tree import DecisionTreeClassifier\n",
    "dt = DecisionTreeClassifier()\n",
    "dt.fit(X_train,y_train)\n",
    "y_pred_dt = dt.predict(X_test)\n",
    "\n",
    "print('Model accuracy score : {0:0.4f}'. format(accuracy_score(y_test, y_pred_dt)))\n",
    "print('Confusion metrics :\\n', metrics.confusion_matrix(y_test, y_pred_dt))\n",
    "print(metrics.classification_report(y_test,y_pred_dt))"
   ]
  },
  {
   "cell_type": "code",
   "execution_count": 13,
   "metadata": {},
   "outputs": [
    {
     "name": "stdout",
     "output_type": "stream",
     "text": [
      "DecisionTreeClassifier(ccp_alpha=0.0, class_weight=None, criterion='gini',\n",
      "                       max_depth=None, max_features=None, max_leaf_nodes=None,\n",
      "                       min_impurity_decrease=0.0, min_impurity_split=None,\n",
      "                       min_samples_leaf=1, min_samples_split=2,\n",
      "                       min_weight_fraction_leaf=0.0, presort='deprecated',\n",
      "                       random_state=None, splitter='best')\n"
     ]
    }
   ],
   "source": [
    "print(dt)"
   ]
  },
  {
   "cell_type": "markdown",
   "metadata": {},
   "source": [
    "## Parameter tuning"
   ]
  },
  {
   "cell_type": "code",
   "execution_count": 19,
   "metadata": {},
   "outputs": [
    {
     "name": "stdout",
     "output_type": "stream",
     "text": [
      "Tuned hyperparameter parameters: {'criterion': 'gini', 'max_depth': 2}\n",
      "Best cross-validation score: 0.9588306609768507\n"
     ]
    }
   ],
   "source": [
    "from sklearn.model_selection import GridSearchCV\n",
    "dt = DecisionTreeClassifier()\n",
    "param_grid = {'criterion' : ['gini', 'entropy'],\n",
    "              'max_depth' : [2,4,6,8,10,12,14]}\n",
    "\n",
    "from sklearn import metrics\n",
    "from sklearn.metrics import make_scorer, f1_score, recall_score, precision_score\n",
    "\n",
    "\n",
    "scorer = make_scorer(f1_score)\n",
    "dt_tuning = GridSearchCV(estimator=dt,\n",
    "                         param_grid=param_grid,\n",
    "                         scoring=scorer,\n",
    "                         cv=10)\n",
    "dt_tuning.fit(X_train, y_train)\n",
    "\n",
    "\n",
    "\n",
    "# Print hyperparameter\n",
    "print(\"Tuned hyperparameter parameters: {}\".format(dt_tuning.best_params_)) \n",
    "print(\"Best cross-validation score: {}\".format(dt_tuning.best_score_))\n",
    "\n"
   ]
  },
  {
   "cell_type": "code",
   "execution_count": null,
   "metadata": {},
   "outputs": [],
   "source": []
  },
  {
   "cell_type": "code",
   "execution_count": null,
   "metadata": {},
   "outputs": [],
   "source": []
  },
  {
   "cell_type": "markdown",
   "metadata": {},
   "source": [
    "## Final DT model"
   ]
  },
  {
   "cell_type": "code",
   "execution_count": 20,
   "metadata": {},
   "outputs": [
    {
     "name": "stdout",
     "output_type": "stream",
     "text": [
      "Model accuracy score : 0.9217\n",
      "Confusion metrics :\n",
      " [[ 650  474]\n",
      " [ 123 6378]]\n",
      "              precision    recall  f1-score   support\n",
      "\n",
      "           0       0.84      0.58      0.69      1124\n",
      "           1       0.93      0.98      0.96      6501\n",
      "\n",
      "    accuracy                           0.92      7625\n",
      "   macro avg       0.89      0.78      0.82      7625\n",
      "weighted avg       0.92      0.92      0.92      7625\n",
      "\n"
     ]
    }
   ],
   "source": [
    "from sklearn.tree import DecisionTreeClassifier\n",
    "dt = DecisionTreeClassifier(criterion='gini',max_depth=2)\n",
    "dt.fit(X_train,y_train)\n",
    "y_pred_dt = dt.predict(X_test)\n",
    "\n",
    "print('Model accuracy score : {0:0.4f}'. format(accuracy_score(y_test, y_pred_dt)))\n",
    "print('Confusion metrics :\\n', metrics.confusion_matrix(y_test, y_pred_dt))\n",
    "print(metrics.classification_report(y_test,y_pred_dt))"
   ]
  },
  {
   "cell_type": "code",
   "execution_count": null,
   "metadata": {},
   "outputs": [],
   "source": []
  },
  {
   "cell_type": "code",
   "execution_count": null,
   "metadata": {},
   "outputs": [],
   "source": []
  },
  {
   "cell_type": "code",
   "execution_count": null,
   "metadata": {},
   "outputs": [],
   "source": []
  },
  {
   "cell_type": "code",
   "execution_count": null,
   "metadata": {},
   "outputs": [],
   "source": []
  },
  {
   "cell_type": "code",
   "execution_count": null,
   "metadata": {},
   "outputs": [],
   "source": []
  },
  {
   "cell_type": "code",
   "execution_count": null,
   "metadata": {},
   "outputs": [],
   "source": []
  },
  {
   "cell_type": "code",
   "execution_count": null,
   "metadata": {},
   "outputs": [],
   "source": []
  },
  {
   "cell_type": "code",
   "execution_count": null,
   "metadata": {},
   "outputs": [],
   "source": []
  },
  {
   "cell_type": "code",
   "execution_count": null,
   "metadata": {},
   "outputs": [],
   "source": []
  },
  {
   "cell_type": "code",
   "execution_count": null,
   "metadata": {},
   "outputs": [],
   "source": []
  }
 ],
 "metadata": {
  "kernelspec": {
   "display_name": "Python 3",
   "language": "python",
   "name": "python3"
  },
  "language_info": {
   "codemirror_mode": {
    "name": "ipython",
    "version": 3
   },
   "file_extension": ".py",
   "mimetype": "text/x-python",
   "name": "python",
   "nbconvert_exporter": "python",
   "pygments_lexer": "ipython3",
   "version": "3.8.8"
  }
 },
 "nbformat": 4,
 "nbformat_minor": 4
}
