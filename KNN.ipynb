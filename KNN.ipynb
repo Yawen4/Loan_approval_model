{
 "cells": [
  {
   "cell_type": "code",
   "execution_count": 1,
   "metadata": {},
   "outputs": [],
   "source": [
    "import pandas as pd\n",
    "from sklearn.ensemble import RandomForestClassifier\n",
    "from matplotlib import pyplot\n",
    "\n",
    "import numpy as np\n",
    "from sklearn.model_selection import train_test_split\n",
    "\n",
    "#Transforming\n",
    "from sklearn.preprocessing import MinMaxScaler\n",
    "from sklearn.decomposition import PCA\n",
    "\n",
    "#cluster and Eval\n",
    "from sklearn.cluster import KMeans\n",
    "from sklearn.metrics import davies_bouldin_score\n",
    "from sklearn.metrics import silhouette_samples, silhouette_score\n",
    "import matplotlib.cm as cm\n",
    "from sklearn.manifold import TSNE\n",
    "from sklearn import decomposition\n",
    "\n",
    "#Visualization\n",
    "import matplotlib.pyplot as plt\n",
    "import plotly.express as px\n",
    "\n",
    "from sklearn.svm import LinearSVC"
   ]
  },
  {
   "cell_type": "code",
   "execution_count": 2,
   "metadata": {},
   "outputs": [],
   "source": [
    "from sklearn import svm\n",
    "from sklearn.svm import SVC\n",
    "from sklearn.linear_model import LogisticRegression\n",
    "from sklearn.metrics import accuracy_score\n",
    "import warnings\n",
    "warnings.filterwarnings('ignore')"
   ]
  },
  {
   "cell_type": "code",
   "execution_count": 3,
   "metadata": {},
   "outputs": [],
   "source": [
    "df = pd.read_excel(\"loan_data_final.xlsx\")"
   ]
  },
  {
   "cell_type": "code",
   "execution_count": 6,
   "metadata": {},
   "outputs": [],
   "source": [
    "X = df.drop(['loan_status'],axis = 1)\n",
    "y = df['loan_status']\n",
    "\n",
    "from sklearn.model_selection import train_test_split\n",
    "\n",
    "X_train, X_test, y_train, y_test = train_test_split(X, y, test_size = 0.3, random_state = 0)\n",
    "\n",
    "X_train.shape, X_test.shape\n",
    "cols = X_train.columns\n",
    "\n",
    "from sklearn.preprocessing import StandardScaler\n",
    "scaler = StandardScaler()\n",
    "X_train = scaler.fit_transform(X_train)\n",
    "X_test = scaler.transform(X_test)\n",
    "\n",
    "X_train = pd.DataFrame(X_train, columns=[cols])\n",
    "X_test = pd.DataFrame(X_test, columns=[cols])"
   ]
  },
  {
   "cell_type": "markdown",
   "metadata": {},
   "source": [
    "### KNN"
   ]
  },
  {
   "cell_type": "code",
   "execution_count": 7,
   "metadata": {},
   "outputs": [],
   "source": [
    "from sklearn.utils import shuffle\n",
    "from sklearn.neighbors import KNeighborsClassifier\n",
    "from sklearn import preprocessing\n",
    "from sklearn import utils"
   ]
  },
  {
   "cell_type": "code",
   "execution_count": 8,
   "metadata": {},
   "outputs": [],
   "source": [
    "train_score = []\n",
    "test_score = []\n",
    "k_vals = []\n",
    "\n",
    "for k in range(1, 21):\n",
    "    k_vals.append(k)\n",
    "    knn = KNeighborsClassifier(n_neighbors = k)\n",
    "    knn.fit(X_train, y_train)\n",
    "    \n",
    "    tr_score = knn.score(X_train, y_train)\n",
    "    train_score.append(tr_score)\n",
    "    \n",
    "    te_score = knn.score(X_test, y_test)\n",
    "    test_score.append(te_score)"
   ]
  },
  {
   "cell_type": "code",
   "execution_count": 9,
   "metadata": {},
   "outputs": [
    {
     "name": "stdout",
     "output_type": "stream",
     "text": [
      "Max test score 91.59344262295082 and k = [12]\n"
     ]
    }
   ],
   "source": [
    "## score that comes from the testing set only\n",
    "max_test_score = max(test_score)\n",
    "test_scores_ind = [i for i, v in enumerate(test_score) if v == max_test_score]\n",
    "print('Max test score {} and k = {}'.format(max_test_score * 100, list(map(lambda x: x + 1, test_scores_ind))))"
   ]
  },
  {
   "cell_type": "code",
   "execution_count": 11,
   "metadata": {},
   "outputs": [
    {
     "data": {
      "text/plain": [
       "0.9159344262295082"
      ]
     },
     "execution_count": 11,
     "metadata": {},
     "output_type": "execute_result"
    }
   ],
   "source": [
    "#Setup a knn classifier with k neighbors\n",
    "knn = KNeighborsClassifier(12)\n",
    "knn.fit(X_train, y_train.ravel())\n",
    "knn.score(X_test, y_test)"
   ]
  },
  {
   "cell_type": "code",
   "execution_count": 13,
   "metadata": {},
   "outputs": [
    {
     "name": "stdout",
     "output_type": "stream",
     "text": [
      "Model accuracy score : 0.9159\n",
      "Confusion metrics :\n",
      " [[6414   87]\n",
      " [ 554  570]]\n",
      "              precision    recall  f1-score   support\n",
      "\n",
      "           0       0.87      0.51      0.64      1124\n",
      "           1       0.92      0.99      0.95      6501\n",
      "\n",
      "    accuracy                           0.92      7625\n",
      "   macro avg       0.89      0.75      0.80      7625\n",
      "weighted avg       0.91      0.92      0.91      7625\n",
      "\n"
     ]
    }
   ],
   "source": [
    "from pandas import Series\n",
    "from numpy.random import randn\n",
    "from sklearn import metrics\n",
    "from sklearn.metrics import make_scorer, f1_score, recall_score, precision_score\n",
    "from sklearn.metrics import accuracy_score\n",
    "\n",
    "y_pred_knn = knn.predict(X_test)\n",
    "print('Model accuracy score : {0:0.4f}'. format(accuracy_score(y_test, y_pred_knn)))\n",
    "print('Confusion metrics :\\n', metrics.confusion_matrix(y_test, y_pred_knn,labels = [1,0]))\n",
    "print(metrics.classification_report(y_test,y_pred_knn))"
   ]
  },
  {
   "cell_type": "markdown",
   "metadata": {},
   "source": [
    "### Parameters Tuning (KNN)"
   ]
  },
  {
   "cell_type": "code",
   "execution_count": 37,
   "metadata": {
    "scrolled": true
   },
   "outputs": [
    {
     "name": "stdout",
     "output_type": "stream",
     "text": [
      "Tuned hyperparameter parameters: {'n_neighbors': 8}\n",
      "Best cross-validation score: 0.9211315174979182\n"
     ]
    }
   ],
   "source": [
    "from sklearn.model_selection import GridSearchCV\n",
    "import numpy as np\n",
    "\n",
    "gs = {'n_neighbors': np.arange(1,25)}\n",
    "knn_gs = KNeighborsClassifier()\n",
    "knn_param_search = GridSearchCV(knn_gs,gs,cv=10)\n",
    "knn_param_search.fit(X_train,y_train)\n",
    "knn_param_search.best_params_\n",
    "print(\"Tuned hyperparameter parameters: {}\".format(knn_param_search.best_params_)) \n",
    "print(\"Best cross-validation score: {}\".format(knn_param_search.best_score_))"
   ]
  },
  {
   "cell_type": "code",
   "execution_count": 15,
   "metadata": {},
   "outputs": [
    {
     "data": {
      "text/plain": [
       "0.9147540983606557"
      ]
     },
     "execution_count": 15,
     "metadata": {},
     "output_type": "execute_result"
    }
   ],
   "source": [
    "knn = KNeighborsClassifier(8)\n",
    "knn.fit(X_train, y_train)\n",
    "knn.score(X_test, y_test)"
   ]
  },
  {
   "cell_type": "code",
   "execution_count": 16,
   "metadata": {},
   "outputs": [
    {
     "name": "stdout",
     "output_type": "stream",
     "text": [
      "Model accuracy score : 0.9159\n",
      "Confusion metrics :\n",
      " [[6414   87]\n",
      " [ 554  570]]\n",
      "              precision    recall  f1-score   support\n",
      "\n",
      "           0       0.87      0.51      0.64      1124\n",
      "           1       0.92      0.99      0.95      6501\n",
      "\n",
      "    accuracy                           0.92      7625\n",
      "   macro avg       0.89      0.75      0.80      7625\n",
      "weighted avg       0.91      0.92      0.91      7625\n",
      "\n"
     ]
    }
   ],
   "source": [
    "y_pred_knn_gs = knn.predict(X_test)\n",
    "print('Model accuracy score : {0:0.4f}'. format(accuracy_score(y_test, y_pred_knn)))\n",
    "print('Confusion metrics :\\n', metrics.confusion_matrix(y_test, y_pred_knn,labels = [1,0]))\n",
    "print(metrics.classification_report(y_test,y_pred_knn))"
   ]
  },
  {
   "cell_type": "code",
   "execution_count": null,
   "metadata": {},
   "outputs": [],
   "source": []
  }
 ],
 "metadata": {
  "kernelspec": {
   "display_name": "Python 3",
   "language": "python",
   "name": "python3"
  },
  "language_info": {
   "codemirror_mode": {
    "name": "ipython",
    "version": 3
   },
   "file_extension": ".py",
   "mimetype": "text/x-python",
   "name": "python",
   "nbconvert_exporter": "python",
   "pygments_lexer": "ipython3",
   "version": "3.8.8"
  }
 },
 "nbformat": 4,
 "nbformat_minor": 4
}
