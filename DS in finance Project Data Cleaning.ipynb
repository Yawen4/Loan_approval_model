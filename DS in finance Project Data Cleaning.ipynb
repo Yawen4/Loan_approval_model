{
 "cells": [
  {
   "cell_type": "code",
   "execution_count": 63,
   "metadata": {},
   "outputs": [],
   "source": [
    "import pandas as pd\n",
    "import numpy as np\n",
    "import re\n",
    "pd.set_option('display.max_columns', None)"
   ]
  },
  {
   "cell_type": "code",
   "execution_count": 80,
   "metadata": {},
   "outputs": [],
   "source": [
    "df = pd.read_excel(\"loan.xlsx\")\n",
    "df[\"pub_rec_bankruptcies\"] = df[\"pub_rec_bankruptcies\"].fillna(0)\n",
    "df = df.fillna(\"\")\n",
    "df = df[df[\"desc\"] != \"\"]\n",
    "df = df[df[\"emp_length\"] != \"\"]\n",
    "df = df[df[\"loan_status\"] != \"Current\"]\n",
    "df = df[df[\"revol_util\"] != \"\"]\n",
    "df = df[df[\"loan_status\"] != \"Current\"]"
   ]
  },
  {
   "cell_type": "code",
   "execution_count": 81,
   "metadata": {},
   "outputs": [],
   "source": [
    "def clean_emp_length(length):\n",
    "    if length == \"< 1 year\":\n",
    "        length = 0.5\n",
    "    else:\n",
    "        regex = re.compile('[^1-9]')\n",
    "        length = regex.sub('', length)\n",
    "    return length\n",
    "\n",
    "def clean_home_ownership(status):\n",
    "    if (status == \"NONE\") or (status == \"OTHER\"):\n",
    "        status = 0\n",
    "    elif status == \"RENT\":\n",
    "        status = 1\n",
    "    elif status == \"MORTGAGE\":\n",
    "        status = 2\n",
    "    else:\n",
    "        status = 3\n",
    "    return status"
   ]
  },
  {
   "cell_type": "code",
   "execution_count": 82,
   "metadata": {},
   "outputs": [],
   "source": [
    "df[\"emp_length\"] = df[\"emp_length\"].apply(lambda x: clean_emp_length(x))\n",
    "df[\"term\"] = df[\"term\"].apply(lambda x: clean_emp_length(x))"
   ]
  },
  {
   "cell_type": "code",
   "execution_count": 83,
   "metadata": {},
   "outputs": [],
   "source": [
    "loan_grade_sorted = sorted(df[\"sub_grade\"].unique())\n",
    "df[\"sub_grade\"] = df[\"sub_grade\"].apply(lambda x: loan_grade_sorted.index(x))"
   ]
  },
  {
   "cell_type": "code",
   "execution_count": 84,
   "metadata": {},
   "outputs": [],
   "source": [
    "df[\"home_ownership\"] = df[\"home_ownership\"].apply(lambda x: clean_home_ownership(x))"
   ]
  },
  {
   "cell_type": "code",
   "execution_count": 85,
   "metadata": {},
   "outputs": [],
   "source": [
    "df[\"verification_status\"] = df[\"verification_status\"].apply(lambda x: 0 if x == \"Not Verified\" else 1)"
   ]
  },
  {
   "cell_type": "code",
   "execution_count": 86,
   "metadata": {},
   "outputs": [],
   "source": [
    "df[\"loan_status\"] = df[\"loan_status\"].apply(lambda x: 0 if x == \"Charged Off\" else 1)"
   ]
  },
  {
   "cell_type": "code",
   "execution_count": 87,
   "metadata": {},
   "outputs": [],
   "source": [
    "df[\"desc_full\"] = df[\"desc\"] + \" \" + df[\"purpose\"]"
   ]
  },
  {
   "cell_type": "code",
   "execution_count": 89,
   "metadata": {},
   "outputs": [],
   "source": [
    "df = pd.concat([df, pd.get_dummies(df[\"addr_state\"])], axis=1).drop(columns=[\"addr_state\", \"desc\", \"purpose\"])"
   ]
  },
  {
   "cell_type": "code",
   "execution_count": 90,
   "metadata": {},
   "outputs": [],
   "source": [
    "df.to_excel(\"loan_processed.xlsx\", index = False)"
   ]
  },
  {
   "cell_type": "code",
   "execution_count": null,
   "metadata": {},
   "outputs": [],
   "source": []
  }
 ],
 "metadata": {
  "kernelspec": {
   "display_name": "Python 3",
   "language": "python",
   "name": "python3"
  },
  "language_info": {
   "codemirror_mode": {
    "name": "ipython",
    "version": 3
   },
   "file_extension": ".py",
   "mimetype": "text/x-python",
   "name": "python",
   "nbconvert_exporter": "python",
   "pygments_lexer": "ipython3",
   "version": "3.8.5"
  }
 },
 "nbformat": 4,
 "nbformat_minor": 4
}
